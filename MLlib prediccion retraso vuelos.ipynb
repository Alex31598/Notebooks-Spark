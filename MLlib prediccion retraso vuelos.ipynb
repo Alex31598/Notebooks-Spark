{
 "cells": [
  {
   "cell_type": "markdown",
   "metadata": {},
   "source": [
    "# MLlib hands-on: RandomForest para predecir la severidad del retraso"
   ]
  },
  {
   "cell_type": "markdown",
   "metadata": {},
   "source": [
    "## Descripción de las variables"
   ]
  },
  {
   "cell_type": "markdown",
   "metadata": {},
   "source": [
    "El dataset está compuesto por las siguientes variables:\n",
    "\n",
    "1. **Year** 2008\n",
    "2. **Month** 1\n",
    "3. **DayofMonth** 1-31\n",
    "4. **DayOfWeek** 1 (Monday) - 7 (Sunday)\n",
    "5. **DepTime** hora real de salida (local, hhmm)\n",
    "6. **CRSDepTime** hora prevista de salida (local, hhmm)\n",
    "7. **ArrTime** hora real de llegada (local, hhmm)\n",
    "8. **CRSArrTime** hora prevista de llegada (local, hhmm)\n",
    "9. **UniqueCarrier** código del aparato\n",
    "10. **FlightNum** número de vuelo\n",
    "11. **TailNum** identificador de cola: aircraft registration, unique aircraft identifier\n",
    "12. **ActualElapsedTime** tiempo real invertido en el vuelo\n",
    "13. **CRSElapsedTime** en minutos\n",
    "14. **AirTime** en minutos\n",
    "15. **ArrDelay** retraso a la llegada, en minutos: se considera que un vuelo ha llegado \"on time\" si aterrizó menos de 15 minutos más tarde de la hora prevista en el Computerized Reservations Systems (CRS).\n",
    "16. **DepDelay** retraso a la salida, en minutos\n",
    "17. **Origin** código IATA del aeropuerto de origen\n",
    "18. **Dest** código IATA del aeropuerto de destino\n",
    "19. **Distance** en millas\n",
    "20. **TaxiIn** taxi in time, in minutes\n",
    "21. **TaxiOut** taxi out time in minutes\n",
    "22. **Cancelled** *si el vuelo fue cancelado (1 = sí, 0 = no)\n",
    "23. **CancellationCode** razón de cancelación (A = aparato, B = tiempo atmosférico, C = NAS, D = seguridad)\n",
    "24. **Diverted** *si el vuelo ha sido desviado (1 = sí, 0 = no)\n",
    "25. **CarrierDelay** en minutos: El retraso del transportista está bajo el control del transportista aéreo. Ejemplos de sucesos que pueden determinar el retraso del transportista son: limpieza de la aeronave, daño de la aeronave, espera de la llegada de los pasajeros o la tripulación de conexión, equipaje, impacto de un pájaro, carga de equipaje, servicio de comidas, computadora, equipo del transportista, problemas legales de la tripulación (descanso del piloto o acompañante) , daños por mercancías peligrosas, inspección de ingeniería, abastecimiento de combustible, pasajeros discapacitados, tripulación retrasada, servicio de inodoros, mantenimiento, ventas excesivas, servicio de agua potable, denegación de viaje a pasajeros en mal estado, proceso de embarque muy lento, equipaje de mano no válido, retrasos de peso y equilibrio.\n",
    "26. **WeatherDelay** en minutos: causado por condiciones atmosféricas extremas o peligrosas, previstas o que se han manifestado antes del despegue, durante el viaje, o a la llegada.\n",
    "27. **NASDelay** en minutos: retraso causado por el National Airspace System (NAS) por motivos como condiciones meteorológicas (perjudiciales pero no extremas), operaciones del aeropuerto, mucho tráfico aéreo, problemas con los controladores aéreos, etc.\n",
    "28. **SecurityDelay** en minutos: causado por la evacuación de una terminal, re-embarque de un avión debido a brechas en la seguridad, fallos en dispositivos del control de seguridad, colas demasiado largas en el control de seguridad, etc.\n",
    "29. **LateAircraftDelay** en minutos: debido al propio retraso del avión al llegar, problemas para conseguir aterrizar en un aeropuerto a una hora más tardía de la que estaba prevista."
   ]
  },
  {
   "cell_type": "markdown",
   "metadata": {},
   "source": [
    "**IMPORTANTE:** Vamos a emplear una versión reducida del dataset de vuelos para entender la forma de trabajar con MLlib, y en particular, los mecanimos de exploración de combinaciones de híper-parámetros para encontrar el mejor modelo, los cuales requieren ajustar varios modelos distintos varias veces. Este proceso sería demasiado largo si utilizásemos el dataset original de 300 MB. \n",
    "\n",
    "<p>En la siguiente celda, descargaremos este dataset reducido de Internet mediante la ejecución del comandos de Linux `wget` y lo subiremos a HDFS  con el comando de HDFS `copyFromLocal`. Los datos guardados en HDFS son volátiles y desaparecerán cuando el cluster sea desmantelado.</p>"
   ]
  },
  {
   "cell_type": "markdown",
   "metadata": {},
   "source": [
    "### Vamos a utilizar una versión reducida del dataset original para poder ver en funcionamiento el ajuste de hiper-parámetros, que requiere ajustar varios modelos"
   ]
  },
  {
   "cell_type": "markdown",
   "metadata": {},
   "source": [
    "#### Descargamos el CSV reducido y lo subimos a HDFS (esta vez no es Google Cloud Storage)"
   ]
  },
  {
   "cell_type": "raw",
   "metadata": {},
   "source": [
    "!wget https://raw.githubusercontent.com/olbapjose/xapi-clojure/master/flights_jan08.csv\n",
    "!hdfs dfs -copyFromLocal flights_jan08.csv /tmp"
   ]
  },
  {
   "cell_type": "markdown",
   "metadata": {},
   "source": [
    "#### Ahora lo leemos desde la ruta /tmp/flights_jan08.csv de HDFS"
   ]
  },
  {
   "cell_type": "code",
   "execution_count": 1,
   "metadata": {},
   "outputs": [],
   "source": [
    "import sys\n",
    "from pyspark.sql import SparkSession\n",
    "spark = (SparkSession\n",
    " .builder\n",
    " .appName(\"Flights\")\n",
    " .getOrCreate())"
   ]
  },
  {
   "cell_type": "code",
   "execution_count": 2,
   "metadata": {},
   "outputs": [],
   "source": [
    "# Leemos el dataset de HDFS. Esta operación todavía no hace la lectura hace una pasada \n",
    "# sobre los datos para inferir el esquema\n",
    "flightsDF = spark.read.option(\"header\", \"true\")\\\n",
    "                      .option(\"inferSchema\", \"true\")\\\n",
    "                      .csv(\"C:/Users/alejandro.perez/Documents/Datasets/flights_jan08.csv\")"
   ]
  },
  {
   "cell_type": "code",
   "execution_count": 3,
   "metadata": {},
   "outputs": [
    {
     "name": "stdout",
     "output_type": "stream",
     "text": [
      "root\n",
      " |-- Year: integer (nullable = true)\n",
      " |-- Month: integer (nullable = true)\n",
      " |-- DayofMonth: integer (nullable = true)\n",
      " |-- DayOfWeek: integer (nullable = true)\n",
      " |-- DepTime: string (nullable = true)\n",
      " |-- CRSDepTime: integer (nullable = true)\n",
      " |-- ArrTime: string (nullable = true)\n",
      " |-- CRSArrTime: integer (nullable = true)\n",
      " |-- UniqueCarrier: string (nullable = true)\n",
      " |-- FlightNum: integer (nullable = true)\n",
      " |-- TailNum: string (nullable = true)\n",
      " |-- ActualElapsedTime: string (nullable = true)\n",
      " |-- CRSElapsedTime: integer (nullable = true)\n",
      " |-- AirTime: string (nullable = true)\n",
      " |-- ArrDelay: string (nullable = true)\n",
      " |-- DepDelay: string (nullable = true)\n",
      " |-- Origin: string (nullable = true)\n",
      " |-- Dest: string (nullable = true)\n",
      " |-- Distance: integer (nullable = true)\n",
      " |-- TaxiIn: string (nullable = true)\n",
      " |-- TaxiOut: string (nullable = true)\n",
      " |-- Cancelled: integer (nullable = true)\n",
      " |-- CancellationCode: string (nullable = true)\n",
      " |-- Diverted: integer (nullable = true)\n",
      " |-- CarrierDelay: string (nullable = true)\n",
      " |-- WeatherDelay: string (nullable = true)\n",
      " |-- NASDelay: string (nullable = true)\n",
      " |-- SecurityDelay: string (nullable = true)\n",
      " |-- LateAircraftDelay: string (nullable = true)\n",
      "\n"
     ]
    }
   ],
   "source": [
    "flightsDF.printSchema()"
   ]
  },
  {
   "cell_type": "markdown",
   "metadata": {},
   "source": [
    "Vamos a utilizar algunos transformadores habituales, y un algoritmo RandomForest que es un estimador. Utilizaremos:\n",
    "\n",
    "* StringIndexer para convertir variables tipo String en variables categóricas pero cuyos valores son números reales con la parte decimal a 0, tal como necesitan los algoritmos de Spark.\n",
    "* Bucketizer para discretizar la columna de ArrDelay sin dar nombre a las categorías, solo numeros. Será nuestra variable target.\n",
    "* VectorAssembler para unir las columnas de las features en una sola de tipo vector\n",
    "* RandomForest que es un estimador, como algoritmo de predicción de la severidad\n",
    "* Pipeline, que es un estimador y que incluirá todos los elementos anteriores."
   ]
  },
  {
   "cell_type": "code",
   "execution_count": 4,
   "metadata": {},
   "outputs": [],
   "source": [
    "from pyspark.sql import functions as F\n",
    "from pyspark.sql.types import IntegerType\n",
    "from pyspark.ml.feature import *\n",
    "from pyspark.ml.classification import RandomForestClassifier\n",
    "from pyspark.ml import Pipeline\n",
    "\n",
    "cleanFlightsDF = flightsDF.where(\"ArrDelay != 'NA' and DepDelay != 'NA' and DepTime != 'NA' and ArrTime != 'NA'\")\\\n",
    "                          .withColumn(\"ArrDelay\", F.col(\"ArrDelay\").cast(IntegerType()))\\\n",
    "                          .withColumn(\"DepDelay\", F.col(\"DepDelay\").cast(IntegerType()))\\\n",
    "                          .withColumn(\"ArrTime\", F.col(\"ArrTime\").cast(IntegerType()))\\\n",
    "                          .withColumn(\"DepTime\", F.col(\"DepTime\").cast(IntegerType()))\n",
    "\n",
    "# Definimos tres categorías: <15, entre 15 y 60, >60. Cada una se codifica con un número real: 0.0, 1.0, 2.0 \n",
    "splitsDelays = [-float(\"inf\"), 15, 60, float(\"inf\")]\n",
    "arrDelayBucketizer = Bucketizer(splits=splitsDelays, inputCol=\"ArrDelay\", outputCol=\"ArrDelayBucketed\")\n",
    "\n",
    "# Definimos varias franjas: 00:00 - 06:00, 06:00 - 12:00, 12:00 - 18:00, 18:00 - 22:00, 22:00 - 00:00\n",
    "splitsDepTime = [-1, 600, 1200, 1800, 2200, 2500]\n",
    "depTimeBucketizer = Bucketizer(splits=splitsDepTime, inputCol=\"DepTime\", outputCol=\"DepTimeBucketed\")\n",
    "\n",
    "# Dividimos en train y test de manera aleatoria usando la semilla 123 para los números aleatorios, para que sea reproducible. \n",
    "# Esto devuelve una lista de dos DataFrames. La división hará que el primer elemento de la lista sea un DF \n",
    "# con aprox. el 70 % de las filas. Lo usaremos para entrenar. El otro DF tendrá aprox el 30 % restante de las filas. \n",
    "splits = cleanFlightsDF.randomSplit([0.7, 0.3], seed = 123)\n",
    "trainDF = splits[0].cache() # El primer DF tiene el 70 % de los datos\n",
    "testDF = splits[1].cache()\n",
    "\n",
    "# Si quisiera generar la lista con todos los StringIndexer para TODAS las columnas:\n",
    "# categoricas = [\"asdñfkj\", \"añdslkjadf\"]\n",
    "# indexerList = [StringIndexer(inputCol=c, outputCol=c + \"indexed\", handleInvalid=\"skip\") for c in categoricas]\n",
    "\n",
    "# Indexamos las columnas categóricas Origin, Dest y DayOfWeek, para traducirlas a reales con la parte decimal a 0.\n",
    "# Recordemos que esto también introduce metadatos adicionales en la columna resultante para indicar que, aunque sea\n",
    "# una columna de números reales, en realidad están representando categorías y debe ser tratada como tal por el algoritmo\n",
    "originIndexer = StringIndexer(inputCol = \"Origin\", outputCol=\"OriginIndexed\", handleInvalid=\"skip\")\n",
    "destIndexer = StringIndexer(inputCol = \"Dest\", outputCol=\"DestIndexed\", handleInvalid=\"skip\")\n",
    "dowIndexer = StringIndexer(inputCol = \"DayOfWeek\", outputCol=\"DayOfWeekIndexed\", handleInvalid=\"skip\")\n",
    "\n",
    "# Ahora unimos todas las columnas que se usarán como variables en una sola columna de tipo vector llamada featuresVector\n",
    "vectorAssembler = VectorAssembler(inputCols = [\"DepDelay\", \"DepTimeBucketed\", \"OriginIndexed\", \"DestIndexed\", \"DayOfWeekIndexed\"], \n",
    "                                  outputCol = \"featuresVector\")\n",
    "\n",
    "randomForest = RandomForestClassifier(featuresCol = \"featuresVector\",\n",
    "                                      labelCol = \"ArrDelayBucketed\",\n",
    "                                      numTrees = 50, maxBins=100)\n",
    "\n",
    "pipeline = Pipeline(stages=[arrDelayBucketizer, depTimeBucketizer, dowIndexer, originIndexer, destIndexer, \n",
    "                            vectorAssembler, randomForest])"
   ]
  },
  {
   "cell_type": "markdown",
   "metadata": {},
   "source": [
    "Aplicamos fit para ajustar el pipeline completo. Lo que esto hace es, para cada etapa:\n",
    "- Si la etapa es un Transformer, invoca al método transform() pasándole el DF que recibe de la etapa anterior,\n",
    "  y envía el resultado (DF transformado) a la etapa siguiente del pipeline.\n",
    "- Si la etapa es un Estimator, invoca al método fit() pasándole como argumento el DF recibido de la etapa anterior,\n",
    "  y después invoca transform() sobre el objeto devuelto por fit, pasando de nuevo dicho DF como argumento. \n",
    "  Finalmente el DF devuelvo por transform es enviado a la etapa siguiente del pipeline."
   ]
  },
  {
   "cell_type": "code",
   "execution_count": 5,
   "metadata": {},
   "outputs": [],
   "source": [
    "pipelineModel = pipeline.fit(trainDF)"
   ]
  },
  {
   "cell_type": "markdown",
   "metadata": {},
   "source": [
    "Vamos a hacer predicciones sobre los datos de test. Esto devolverá un nuevo DF al que se le han añadido varias columnas al final:\n",
    "1. **`rawPrediction`**: magnitud que tiene una interpretación diferente según el algoritmo pero que intuitivamente nos da una\n",
    "  medida de la confianza en cada posible clase (cuanto mayor, más confianza se tiene en que esa es la clase del ejemplo). En\n",
    "  nuestro caso será un vector de 3 números reales puesto que nuestro problema tiene 3 clases\n",
    "2. **`probability`**: vector de probabilidades de que el ejemplo pertenezca a cada una de las 3 clases de nuestro problema\n",
    "3. **`prediction`**: clase para la cual la rawProbability es mayor."
   ]
  },
  {
   "cell_type": "code",
   "execution_count": 6,
   "metadata": {},
   "outputs": [],
   "source": [
    "predictionsDF = pipelineModel.transform(testDF)"
   ]
  },
  {
   "cell_type": "code",
   "execution_count": 7,
   "metadata": {},
   "outputs": [
    {
     "name": "stdout",
     "output_type": "stream",
     "text": [
      "Hay 69152 ejemplos de entrenamiento\n"
     ]
    }
   ],
   "source": [
    "print(\"Hay {0} ejemplos de entrenamiento\".format(trainDF.count()))"
   ]
  },
  {
   "cell_type": "code",
   "execution_count": 8,
   "metadata": {},
   "outputs": [
    {
     "name": "stdout",
     "output_type": "stream",
     "text": [
      "+----+-----+----------+---------+-------+----------+-------+----------+-------------+---------+-------+-----------------+--------------+-------+--------+--------+------+----+--------+------+-------+---------+----------------+--------+------------+------------+--------+-------------+-----------------+----------------+---------------+----------------+-------------+-----------+--------------------+--------------------+--------------------+----------+\n",
      "|Year|Month|DayofMonth|DayOfWeek|DepTime|CRSDepTime|ArrTime|CRSArrTime|UniqueCarrier|FlightNum|TailNum|ActualElapsedTime|CRSElapsedTime|AirTime|ArrDelay|DepDelay|Origin|Dest|Distance|TaxiIn|TaxiOut|Cancelled|CancellationCode|Diverted|CarrierDelay|WeatherDelay|NASDelay|SecurityDelay|LateAircraftDelay|ArrDelayBucketed|DepTimeBucketed|DayOfWeekIndexed|OriginIndexed|DestIndexed|      featuresVector|       rawPrediction|         probability|prediction|\n",
      "+----+-----+----------+---------+-------+----------+-------+----------+-------------+---------+-------+-----------------+--------------+-------+--------+--------+------+----+--------+------+-------+---------+----------------+--------+------------+------------+--------+-------------+-----------------+----------------+---------------+----------------+-------------+-----------+--------------------+--------------------+--------------------+----------+\n",
      "|2008|    1|         3|        4|    600|       600|    711|       715|           WN|     2111| N673AA|               71|            75|     54|      -4|       0|   OAK| LAX|     337|     7|     10|        0|            null|       0|          NA|          NA|      NA|           NA|               NA|             0.0|            1.0|             0.0|          4.0|        7.0|[0.0,1.0,4.0,7.0,...|[47.4369676826547...|[0.94873935365309...|       0.0|\n",
      "|2008|    1|         3|        4|    601|       600|    719|       720|           WN|     1940| N358SW|               78|            80|     68|      -1|       1|   PDX| RNO|     444|     3|      7|        0|            null|       0|          NA|          NA|      NA|           NA|               NA|             0.0|            1.0|             0.0|         27.0|       26.0|[1.0,1.0,27.0,26....|[47.5240786386839...|[0.95048157277367...|       0.0|\n",
      "|2008|    1|         3|        4|    602|       600|    733|       730|           WN|     3233| N354SW|               91|            90|     76|       3|       2|   LAS| OAK|     407|     4|     11|        0|            null|       0|          NA|          NA|      NA|           NA|               NA|             0.0|            1.0|             0.0|          0.0|        4.0|[2.0,1.0,0.0,4.0,...|[47.3978876525777...|[0.94795775305155...|       0.0|\n",
      "|2008|    1|         3|        4|    605|       605|    723|       730|           WN|     3330| N436WN|               78|            85|     61|      -7|       0|   OAK| SNA|     371|     7|     10|        0|            null|       0|          NA|          NA|      NA|           NA|               NA|             0.0|            1.0|             0.0|          4.0|       30.0|[0.0,1.0,4.0,30.0...|[47.6055924347853...|[0.95211184869570...|       0.0|\n",
      "|2008|    1|         3|        4|    607|       600|    831|       810|           WN|      922| N388SW|              144|           130|    131|      21|       7|   TPA| BWI|     842|     3|     10|        0|            null|       0|           7|           0|      14|            0|                0|             1.0|            1.0|             0.0|         11.0|        3.0|[7.0,1.0,11.0,3.0...|[47.7217347509127...|[0.95443469501825...|       0.0|\n",
      "|2008|    1|         3|        4|    610|       610|    819|       855|           WN|      288| N363SW|              129|           165|    112|     -36|       0|   PHL| MCO|     861|     6|     11|        0|            null|       0|          NA|          NA|      NA|           NA|               NA|             0.0|            1.0|             0.0|         19.0|        9.0|[0.0,1.0,19.0,9.0...|[47.6882561244611...|[0.95376512248922...|       0.0|\n",
      "|2008|    1|         3|        4|    611|       610|    853|       900|           WN|      873| N287WN|              102|           110|     87|      -7|       1|   SMF| PHX|     647|     7|      8|        0|            null|       0|          NA|          NA|      NA|           NA|               NA|             0.0|            1.0|             0.0|         10.0|        2.0|[1.0,1.0,10.0,2.0...|[47.6350251580490...|[0.95270050316098...|       0.0|\n",
      "|2008|    1|         3|        4|    614|       615|    740|       740|           WN|      297| N743SW|               86|            85|     74|       0|      -1|   SMF| SAN|     480|     3|      9|        0|            null|       0|          NA|          NA|      NA|           NA|               NA|             0.0|            1.0|             0.0|         10.0|        8.0|[-1.0,1.0,10.0,8....|[47.4664004059185...|[0.94932800811836...|       0.0|\n",
      "|2008|    1|         3|        4|    614|       615|    900|       910|           WN|     2894| N345SA|              106|           115|     91|     -10|      -1|   OAK| PHX|     646|     4|     11|        0|            null|       0|          NA|          NA|      NA|           NA|               NA|             0.0|            1.0|             0.0|          4.0|        2.0|[-1.0,1.0,4.0,2.0...|[47.6055924347853...|[0.95211184869570...|       0.0|\n",
      "|2008|    1|         3|        4|    615|       610|    746|       730|           WN|      276| N472WN|               91|            80|     74|      16|       5|   LAS| SJC|     386|     4|     13|        0|            null|       0|           0|           0|      16|            0|                0|             1.0|            1.0|             0.0|          0.0|       15.0|[5.0,1.0,0.0,15.0...|[47.4697699278317...|[0.94939539855663...|       0.0|\n",
      "|2008|    1|         3|        4|    615|       610|   1216|      1215|           WN|      792| N900WN|              241|           245|    219|       1|       5|   OAK| MDW|    1844|     8|     14|        0|            null|       0|          NA|          NA|      NA|           NA|               NA|             0.0|            1.0|             0.0|          4.0|        1.0|[5.0,1.0,4.0,1.0,...|[47.6055924347853...|[0.95211184869570...|       0.0|\n",
      "|2008|    1|         3|        4|    615|       615|    724|       735|           WN|      971| N202WN|               69|            80|     60|     -11|       0|   JAN| HOU|     359|     2|      7|        0|            null|       0|          NA|          NA|      NA|           NA|               NA|             0.0|            1.0|             0.0|         62.0|        5.0|[0.0,1.0,62.0,5.0...|[47.5641013522686...|[0.95128202704537...|       0.0|\n",
      "|2008|    1|         3|        4|    617|       615|    652|       650|           WN|       11| N689SW|               95|            95|     70|       2|       2|   IND| MCI|     451|     6|     19|        0|            null|       0|          NA|          NA|      NA|           NA|               NA|             0.0|            1.0|             0.0|         50.0|       14.0|[2.0,1.0,50.0,14....|[47.6882561244611...|[0.95376512248922...|       0.0|\n",
      "|2008|    1|         3|        4|    617|       615|    743|       735|           WN|      424| N713SW|               86|            80|     59|       8|       2|   MCI| MDW|     405|     6|     21|        0|            null|       0|          NA|          NA|      NA|           NA|               NA|             0.0|            1.0|             0.0|         14.0|        1.0|[2.0,1.0,14.0,1.0...|[47.5367274580292...|[0.95073454916058...|       0.0|\n",
      "|2008|    1|         3|        4|    619|       615|    745|       735|           WN|     2548| N335SW|               86|            80|     61|      10|       4|   ONT| SMF|     389|     4|     21|        0|            null|       0|          NA|          NA|      NA|           NA|               NA|             0.0|            1.0|             0.0|         13.0|       10.0|[4.0,1.0,13.0,10....|[47.4340992155873...|[0.94868198431174...|       0.0|\n",
      "|2008|    1|         3|        4|    619|       615|    819|       820|           WN|      991| N297WN|              120|           125|    104|      -1|       4|   SEA| OAK|     671|     4|     12|        0|            null|       0|          NA|          NA|      NA|           NA|               NA|             0.0|            1.0|             0.0|         24.0|        4.0|[4.0,1.0,24.0,4.0...|[47.4664004059185...|[0.94932800811836...|       0.0|\n",
      "|2008|    1|         3|        4|    621|       615|    948|       945|           WN|      482| N706SW|              147|           150|    128|       3|       6|   MDW| MCO|     989|     8|     11|        0|            null|       0|          NA|          NA|      NA|           NA|               NA|             0.0|            1.0|             0.0|          1.0|        9.0|[6.0,1.0,1.0,9.0,...|[47.5964870463821...|[0.95192974092764...|       0.0|\n",
      "|2008|    1|         3|        4|    621|       620|    844|       840|           WN|     3414| N732SW|               83|            80|     59|       4|       1|   MDW| PIT|     402|     7|     17|        0|            null|       0|          NA|          NA|      NA|           NA|               NA|             0.0|            1.0|             0.0|          1.0|       43.0|[1.0,1.0,1.0,43.0...|[47.5964870463821...|[0.95192974092764...|       0.0|\n",
      "|2008|    1|         3|        4|    622|       615|    750|       755|           WN|       10| N333SW|              148|           160|    132|      -5|       7|   MCO| HOU|     848|     3|     13|        0|            null|       0|          NA|          NA|      NA|           NA|               NA|             0.0|            1.0|             0.0|          8.0|        5.0|[7.0,1.0,8.0,5.0,...|[47.6791002457752...|[0.95358200491550...|       0.0|\n",
      "|2008|    1|         3|        4|    622|       615|    817|       805|           WN|      561| N766SW|              175|           170|    152|      12|       7|   MCO| MDW|     989|     7|     16|        0|            null|       0|          NA|          NA|      NA|           NA|               NA|             0.0|            1.0|             0.0|          8.0|        1.0|[7.0,1.0,8.0,1.0,...|[47.6791002457752...|[0.95358200491550...|       0.0|\n",
      "+----+-----+----------+---------+-------+----------+-------+----------+-------------+---------+-------+-----------------+--------------+-------+--------+--------+------+----+--------+------+-------+---------+----------------+--------+------------+------------+--------+-------------+-----------------+----------------+---------------+----------------+-------------+-----------+--------------------+--------------------+--------------------+----------+\n",
      "only showing top 20 rows\n",
      "\n"
     ]
    }
   ],
   "source": [
    "predictionsDF.show()"
   ]
  },
  {
   "cell_type": "markdown",
   "metadata": {},
   "source": [
    "### Evaluación del modelo (evaluamos las predicciones que hemos hecho sobre el DF de test)"
   ]
  },
  {
   "cell_type": "code",
   "execution_count": 9,
   "metadata": {},
   "outputs": [
    {
     "name": "stdout",
     "output_type": "stream",
     "text": [
      "Test Error = 0.0788137 \n"
     ]
    }
   ],
   "source": [
    "# Select (prediction, true label) and compute test error\n",
    "from pyspark.ml.evaluation import MulticlassClassificationEvaluator\n",
    "\n",
    "# Objeto evaluador, para evaluar las predicciones. Compara una columna de predicciones con la columna target del verdadero valor\n",
    "# Hay varias métricas posibles, pero nosotros hemos elegido la más simple: porcentaje de acierto en clasificación.\n",
    "evaluator = MulticlassClassificationEvaluator(\n",
    "    labelCol=\"ArrDelayBucketed\", predictionCol=\"prediction\", metricName=\"accuracy\")\n",
    "\n",
    "accuracy = evaluator.evaluate(predictionsDF)\n",
    "\n",
    "print(\"Test Error = %g \" % (1.0 - accuracy))"
   ]
  },
  {
   "cell_type": "markdown",
   "metadata": {},
   "source": [
    "### Ajuste de híper-parámetros utilizando Cross Validation sobre el subconjunto de train"
   ]
  },
  {
   "cell_type": "code",
   "execution_count": 10,
   "metadata": {},
   "outputs": [
    {
     "data": {
      "text/plain": [
       "PipelineModel_96b4d1e3032c"
      ]
     },
     "execution_count": 10,
     "metadata": {},
     "output_type": "execute_result"
    }
   ],
   "source": [
    "from pyspark.ml.tuning import CrossValidator, ParamGridBuilder, TrainValidationSplit\n",
    "\n",
    "# Objeto ParamGrid al que le tenemos que indicar cada uno de los parámetros sobre los que queremos buscar,\n",
    "# y la lista de valores posibles que queremos probar con cada uno. Deben ser parámetros tomados directamente\n",
    "# del objeto estimador que se añadió al pipeline (no pueden ser de ningún otro modelo). En nuestro caso este objeto\n",
    "# está almacenado en la variable randomForest que habíamos creado en celdas anteriores.\n",
    "paramGrid = ParamGridBuilder()\\\n",
    "    .addGrid(randomForest.numTrees, [50, 100, 150])\\\n",
    "    .addGrid(randomForest.maxDepth, [3, 4, 5])\\\n",
    "    .build() # como tenemos 2 parámetros con 3 valores posibles cada uno, hay 9 combinaciones posibles\n",
    "\n",
    "# CrossValidator es un estimador. Cuando invocamos a fit(), probará todas las combinaciones de valores de los \n",
    "# parámetros, invocando con cada combinación al método fit() del objeto pipeline que le hemos pasado como argumento\n",
    "crossval = CrossValidator(estimator=pipeline,\n",
    "                          estimatorParamMaps=paramGrid,\n",
    "                          evaluator=evaluator,\n",
    "                          numFolds=3)\n",
    "\n",
    "# Como hemos hecho 3 folds, habrá que entrenar 3 veces cada modelo candidato (cada combinación de parámetros)\n",
    "# y obtener su media de accuracy. En total vamos a entrenar 27 modelos\n",
    "\n",
    "cvModel = crossval.fit(trainDF)\n",
    "cvModel.bestModel"
   ]
  },
  {
   "cell_type": "markdown",
   "metadata": {},
   "source": [
    "#### El objeto RandomForestModel (modelo ajustado presente en la última etapa del pipeline ya ajustado) dispone de ciertos atajos para recuperar valores de algunos parámetros (por ejemplo getNumTrees) pero no de otros (por ejemplo, no existe getMaxDepth)"
   ]
  },
  {
   "cell_type": "code",
   "execution_count": 11,
   "metadata": {},
   "outputs": [
    {
     "name": "stdout",
     "output_type": "stream",
     "text": [
      "Número óptimo de árboles: 100\n",
      "Max depth óptimo: 5\n"
     ]
    }
   ],
   "source": [
    "rf = cvModel.bestModel.stages[6]\n",
    "print(\"Número óptimo de árboles: {0}\".format(rf.getNumTrees))\n",
    "print(\"Max depth óptimo: {0}\".format(rf.getOrDefault('maxDepth')))"
   ]
  },
  {
   "cell_type": "code",
   "execution_count": null,
   "metadata": {},
   "outputs": [],
   "source": []
  }
 ],
 "metadata": {
  "kernelspec": {
   "display_name": "Python 3 (ipykernel)",
   "language": "python",
   "name": "python3"
  },
  "language_info": {
   "codemirror_mode": {
    "name": "ipython",
    "version": 3
   },
   "file_extension": ".py",
   "mimetype": "text/x-python",
   "name": "python",
   "nbconvert_exporter": "python",
   "pygments_lexer": "ipython3",
   "version": "3.9.7"
  }
 },
 "nbformat": 4,
 "nbformat_minor": 4
}
