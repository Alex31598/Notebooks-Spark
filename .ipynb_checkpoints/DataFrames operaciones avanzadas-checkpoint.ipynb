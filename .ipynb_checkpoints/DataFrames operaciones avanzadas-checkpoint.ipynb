{
 "cells": [
  {
   "cell_type": "markdown",
   "metadata": {},
   "source": [
    "# Operaciones avanzadas con DataFrames"
   ]
  },
  {
   "cell_type": "markdown",
   "metadata": {},
   "source": [
    "## Descripción de las variables"
   ]
  },
  {
   "cell_type": "markdown",
   "metadata": {},
   "source": [
    "El dataset, obtenido de <a target = \"_blank\" href=\"https://www.transtats.bts.gov/Fields.asp?Table_ID=236\">este link</a> está compuesto por las siguientes variables referidas siempre al año 2018:\n",
    "\n",
    "1. **Month** 1-4\n",
    "2. **DayofMonth** 1-31\n",
    "3. **DayOfWeek** 1 (Monday) - 7 (Sunday)\n",
    "4. **FlightDate** fecha del vuelo\n",
    "5. **Origin** código IATA del aeropuerto de origen\n",
    "6. **OriginCity** ciudad donde está el aeropuerto de origen\n",
    "7. **Dest** código IATA del aeropuerto de destino\n",
    "8. **DestCity** ciudad donde está el aeropuerto de destino  \n",
    "9. **DepTime** hora real de salida (local, hhmm)\n",
    "10. **DepDelay** retraso a la salida, en minutos\n",
    "11. **ArrTime** hora real de llegada (local, hhmm)\n",
    "12. **ArrDelay** retraso a la llegada, en minutos: se considera que un vuelo ha llegado \"on time\" si aterrizó menos de 15 minutos más tarde de la hora prevista en el Computerized Reservations Systems (CRS).\n",
    "13. **Cancelled** si el vuelo fue cancelado (1 = sí, 0 = no)\n",
    "14. **CancellationCode** razón de cancelación (A = aparato, B = tiempo atmosférico, C = NAS, D = seguridad)\n",
    "15. **Diverted** si el vuelo ha sido desviado (1 = sí, 0 = no)\n",
    "16. **ActualElapsedTime** tiempo real invertido en el vuelo\n",
    "17. **AirTime** en minutos\n",
    "18. **Distance** en millas\n",
    "19. **CarrierDelay** en minutos: El retraso del transportista está bajo el control del transportista aéreo. Ejemplos de sucesos que pueden determinar el retraso del transportista son: limpieza de la aeronave, daño de la aeronave, espera de la llegada de los pasajeros o la tripulación de conexión, equipaje, impacto de un pájaro, carga de equipaje, servicio de comidas, computadora, equipo del transportista, problemas legales de la tripulación (descanso del piloto o acompañante) , daños por mercancías peligrosas, inspección de ingeniería, abastecimiento de combustible, pasajeros discapacitados, tripulación retrasada, servicio de inodoros, mantenimiento, ventas excesivas, servicio de agua potable, denegación de viaje a pasajeros en mal estado, proceso de embarque muy lento, equipaje de mano no válido, retrasos de peso y equilibrio.\n",
    "20. **WeatherDelay** en minutos: causado por condiciones atmosféricas extremas o peligrosas, previstas o que se han manifestado antes del despegue, durante el viaje, o a la llegada.\n",
    "21. **NASDelay** en minutos: retraso causado por el National Airspace System (NAS) por motivos como condiciones meteorológicas (perjudiciales pero no extremas), operaciones del aeropuerto, mucho tráfico aéreo, problemas con los controladores aéreos, etc.\n",
    "22. **SecurityDelay** en minutos: causado por la evacuación de una terminal, re-embarque de un avión debido a brechas en la seguridad, fallos en dispositivos del control de seguridad, colas demasiado largas en el control de seguridad, etc.\n",
    "23. **LateAircraftDelay** en minutos: debido al propio retraso del avión al llegar, problemas para conseguir aterrizar en un aeropuerto a una hora más tardía de la que estaba prevista."
   ]
  },
  {
   "cell_type": "code",
   "execution_count": 5,
   "metadata": {},
   "outputs": [],
   "source": [
    "import sys\n",
    "from pyspark.sql import SparkSession\n",
    "spark = (SparkSession\n",
    " .builder\n",
    " .appName(\"Flights\")\n",
    " .getOrCreate())\n",
    "\n"
   ]
  },
  {
   "cell_type": "code",
   "execution_count": 6,
   "metadata": {},
   "outputs": [],
   "source": [
    "import pyspark.sql.functions as F\n",
    "from pyspark.sql.types import IntegerType\n",
    "\n",
    "# Leemos los datos y quitamos filas con NA y convertimos a numéricas las columnas inferidas incorrectamente\n",
    "flightsDF = spark.read\\\n",
    "                 .option(\"header\", \"true\")\\\n",
    "                 .option(\"inferSchema\", \"true\")\\\n",
    "                 .csv(\"C:/Users/alejandro.perez/Documents/Datasets/flights-jan-apr-2018.csv\")\n",
    "\n",
    "# Convertimos a enteros y re-categorizamos ArrDelay en una nueva columna ArrDelayCat\n",
    "# None (< 15 min), Slight(entre 15 y 60 min), Huge (> 60 min)\n",
    "\n",
    "cleanFlightsDF = flightsDF.withColumn(\"ArrDelayCat\", F.when(F.col(\"ArrDelay\") < 15, \"None\")\\\n",
    "                                                      .when((F.col(\"ArrDelay\") >= 15) & (F.col(\"ArrDelay\") < 60), \"Slight\")\\\n",
    "                                                      .otherwise(\"Huge\"))\\\n",
    "                           .cache()"
   ]
  },
  {
   "cell_type": "markdown",
   "metadata": {},
   "source": [
    "## Hagamos algunas preguntas a los datos para obtener conclusiones"
   ]
  },
  {
   "cell_type": "markdown",
   "metadata": {},
   "source": [
    "Imaginemos que somos los dueños de una web de viajes que rastrea internet en busca de vuelos en agencias y otras páginas, los compara y recomienda el más adecuado para el aeropuerto. Junto con esta recomendación, querríamos dar también información sobre vuelos fiables y no fiables en lo que respecta a la puntualidad. Esto depende de muchos factores, como el origen y destino, duración del vuelo, hora del día, etc."
   ]
  },
  {
   "cell_type": "markdown",
   "metadata": {},
   "source": [
    "### Agrupación y agregaciones"
   ]
  },
  {
   "cell_type": "markdown",
   "metadata": {},
   "source": [
    "<div class=\"alert alert-block alert-success\">\n",
    "<p><b>PREGUNTA</b>: ¿Cuáles son los vuelos (origen, destino) con mayor retraso medio? ¿Cuántos vuelos existen entre cada par de aeropuertos?</p>\n",
    "<p><b>PISTA</b>: Tras hacer las agregaciones para cada pareja \"Origin\", \"Dest\" (una agregación para el retraso medio y otra para contar), aplica el método sort(F.col(\"avgDelay\").desc()) para ordenar de forma decreciente por la nueva columna del retraso medio.\n",
    "</div>"
   ]
  },
  {
   "cell_type": "code",
   "execution_count": 7,
   "metadata": {},
   "outputs": [
    {
     "name": "stdout",
     "output_type": "stream",
     "text": [
      "+--------+------------------+------------+\n",
      "|Org_Dest|          avgDelay|NumeroVuelos|\n",
      "+--------+------------------+------------+\n",
      "| RDM-MFR|            2790.0|           2|\n",
      "| MDT-HPN|            1557.0|           1|\n",
      "| ORD-GTF|             469.0|           1|\n",
      "| ICT-DAY|             391.0|           1|\n",
      "| ELM-ATL|             363.0|           2|\n",
      "| DSM-PIA|             323.0|           1|\n",
      "| ERI-ITH|             316.0|           1|\n",
      "| CMH-HOU|             268.0|           1|\n",
      "| YNG-PIE|             252.0|           1|\n",
      "| PPG-HNL|220.54285714285714|          35|\n",
      "| HNL-PPG|210.94285714285715|          35|\n",
      "| AVP-SFB|             206.0|           1|\n",
      "| HRL-DAL|             197.0|           1|\n",
      "| PIE-YNG|             193.0|           1|\n",
      "| CPR-LAS|             185.0|           1|\n",
      "| MSP-PVD|             176.0|           1|\n",
      "| ACY-MSY|171.54545454545453|          11|\n",
      "| LAS-CPR|             163.0|           1|\n",
      "| TTN-BNA|             153.7|          10|\n",
      "| GRK-ATL|             131.7|          21|\n",
      "+--------+------------------+------------+\n",
      "only showing top 20 rows\n",
      "\n"
     ]
    }
   ],
   "source": [
    "flightsDF.withColumn(\"Org_Dest\", F.concat_ws(\"-\",\"Origin\",\"Dest\"))\\\n",
    "              .withColumn(\"Delay\", F.col(\"ArrDelay\")+F.col(\"DepDelay\"))\\\n",
    "              .groupBy(F.col(\"Org_Dest\"))\\\n",
    "              .agg(F.mean(F.col(\"Delay\")).alias(\"avgDelay\"),F.count(\"Org_Dest\").alias(\"NumeroVuelos\")).sort(F.col(\"avgDelay\").desc()).show()"
   ]
  },
  {
   "cell_type": "code",
   "execution_count": 8,
   "metadata": {},
   "outputs": [
    {
     "name": "stdout",
     "output_type": "stream",
     "text": [
      "+------+----+-------------+--------------+\n",
      "|Origin|Dest|Average_delay|Number_flights|\n",
      "+------+----+-------------+--------------+\n",
      "|   RDM| MFR|       1347.0|             2|\n",
      "|   MDT| HPN|        798.0|             1|\n",
      "|   ORD| GTF|        212.0|             1|\n",
      "|   ICT| DAY|        210.0|             1|\n",
      "|   ELM| ATL|        169.0|             2|\n",
      "|   DSM| PIA|        168.0|             1|\n",
      "|   ERI| ITH|        160.0|             1|\n",
      "|   YNG| PIE|        141.0|             1|\n",
      "|   CMH| HOU|        120.0|             1|\n",
      "|   HRL| DAL|        111.0|             1|\n",
      "|   PPG| HNL|        109.9|            35|\n",
      "|   HNL| PPG|        105.9|            35|\n",
      "|   PIE| YNG|        104.0|             1|\n",
      "|   AVP| SFB|         93.0|             1|\n",
      "|   ACY| MSY|         87.5|            11|\n",
      "|   CPR| LAS|         85.0|             1|\n",
      "|   LAS| CPR|         82.0|             1|\n",
      "|   TTN| BNA|         76.5|            10|\n",
      "|   MSP| PVD|         74.0|             1|\n",
      "|   TUL| OKC|         69.0|             1|\n",
      "+------+----+-------------+--------------+\n",
      "only showing top 20 rows\n",
      "\n"
     ]
    }
   ],
   "source": [
    "AggFlights = cleanFlightsDF.groupBy(F.col(\"Origin\"), F.col(\"Dest\")).agg(\n",
    "                                    F.round(F.mean(F.col(\"ArrDelay\")),1).alias(\"Average_delay\"),\n",
    "                                    F.count(\"*\").alias(\"Number_flights\"))\\\n",
    "                                    .orderBy(F.col(\"Average_delay\"), ascending = False)\n",
    "AggFlights.show()"
   ]
  },
  {
   "cell_type": "markdown",
   "metadata": {},
   "source": [
    "<div class=\"alert alert-block alert-success\">\n",
    "<p><b>PREGUNTA</b>: ¿Es el avión un medio de transporte fiable? Mostrar el número de vuelos en cada categoría de retraso.</p>\n",
    "En lugar de llamar agg(F.count(\"*\")), podemos llamar a la transformación count() sobre el resultado de groupBy(), y creará\n",
    "automáticamente una columna llamada \"count\" con los conteos para cada grupo.\n",
    "<p> Ahora agrupar también por cada aeropuerto de origen, y mostrando una columna distinta por cada tipo de retraso, con el recuento. PISTA: utilizar la función pivot(\"colName\").</p>"
   ]
  },
  {
   "cell_type": "code",
   "execution_count": 9,
   "metadata": {},
   "outputs": [
    {
     "name": "stdout",
     "output_type": "stream",
     "text": [
      "+-----------+------------+\n",
      "|ArrDelayCat|numVuelosCat|\n",
      "+-----------+------------+\n",
      "|     Slight|      298234|\n",
      "|       None|     2004727|\n",
      "|       Huge|      200152|\n",
      "+-----------+------------+\n",
      "\n"
     ]
    }
   ],
   "source": [
    "cleanFlightsDF.groupBy(\"ArrDelayCat\").agg(\n",
    "    F.count(\"*\").alias(\"numVuelosCat\")\n",
    ").show()"
   ]
  },
  {
   "cell_type": "code",
   "execution_count": 10,
   "metadata": {},
   "outputs": [
    {
     "name": "stdout",
     "output_type": "stream",
     "text": [
      "+-----------+-------+\n",
      "|ArrDelayCat|  count|\n",
      "+-----------+-------+\n",
      "|     Slight| 298234|\n",
      "|       None|2004727|\n",
      "|       Huge| 200152|\n",
      "+-----------+-------+\n",
      "\n"
     ]
    }
   ],
   "source": [
    "cleanFlightsDF.groupBy(\"ArrDelayCat\").count().show()"
   ]
  },
  {
   "cell_type": "code",
   "execution_count": 11,
   "metadata": {},
   "outputs": [
    {
     "name": "stdout",
     "output_type": "stream",
     "text": [
      "+------+----+-----------+-------+\n",
      "|Origin|Dest|ArrDelayCat|cuantos|\n",
      "+------+----+-----------+-------+\n",
      "|   MCI| MKE|       Huge|      8|\n",
      "|   MCI| MKE|       None|    172|\n",
      "|   MCI| MKE|     Slight|     18|\n",
      "+------+----+-----------+-------+\n",
      "\n"
     ]
    }
   ],
   "source": [
    "sortedAvgDelaysDF = cleanFlightsDF.groupBy(\"Origin\",\"Dest\",\"ArrDelayCat\").agg(\n",
    "                                            F.count(\"*\").alias(\"cuantos\"))\\\n",
    "                                            .where(\"Origin = 'MCI' and Dest = 'MKE'\")\n",
    "sortedAvgDelaysDF.show()"
   ]
  },
  {
   "cell_type": "markdown",
   "metadata": {},
   "source": [
    "## Vamos a desplegar ArrDelayCat"
   ]
  },
  {
   "cell_type": "code",
   "execution_count": 12,
   "metadata": {},
   "outputs": [
    {
     "name": "stdout",
     "output_type": "stream",
     "text": [
      "+------+----+-----------+----+----+------+\n",
      "|Origin|Dest|ArrDelayCat|Huge|None|Slight|\n",
      "+------+----+-----------+----+----+------+\n",
      "|   BOS| LGB|       Huge|  22|null|  null|\n",
      "|   BOS| HOU|       None|null| 194|  null|\n",
      "|   BUF| JFK|     Slight|null|null|   108|\n",
      "|   FLL| ORH|       None|null|  71|  null|\n",
      "|   BOS| DEN|       Huge|  71|null|  null|\n",
      "|   MSO| LAS|       None|null|  29|  null|\n",
      "|   BIS| SFB|       None|null|  28|  null|\n",
      "|   MSY| PIE|       None|null|  32|  null|\n",
      "|   BOI| LAS|       None|null| 235|  null|\n",
      "|   EWR| CVG|       None|null| 641|  null|\n",
      "|   LEX| SFB|     Slight|null|null|    15|\n",
      "|   ROA| CLT|     Slight|null|null|   100|\n",
      "|   CLT| TLH|       None|null| 365|  null|\n",
      "|   CLT| GRR|       None|null| 187|  null|\n",
      "|   SFO| RDM|       None|null| 369|  null|\n",
      "|   DEN| DFW|       None|null|1578|  null|\n",
      "|   COS| ORD|       Huge|  52|null|  null|\n",
      "|   LAN| MSP|       None|null| 203|  null|\n",
      "|   MSP| RAP|     Slight|null|null|    44|\n",
      "|   SBN| DTW|     Slight|null|null|    72|\n",
      "+------+----+-----------+----+----+------+\n",
      "only showing top 20 rows\n",
      "\n"
     ]
    }
   ],
   "source": [
    "sortedAvgDelaysDF = cleanFlightsDF.groupBy(\"Origin\",\"Dest\",\"ArrDelayCat\").pivot(\"ArrDelayCat\").agg(\n",
    "                                            F.count(\"*\").alias(\"cuantos\"))\n",
    "sortedAvgDelaysDF.show()"
   ]
  },
  {
   "cell_type": "code",
   "execution_count": 13,
   "metadata": {},
   "outputs": [
    {
     "name": "stdout",
     "output_type": "stream",
     "text": [
      "+------+-----------+----------------+-----------+----------------+-------------+------------------+\n",
      "|Origin|Huge_Conteo|Huge_maxArrDelay|None_Conteo|None_maxArrDelay|Slight_Conteo|Slight_maxArrDelay|\n",
      "+------+-----------+----------------+-----------+----------------+-------------+------------------+\n",
      "|   ABE|        193|           674.0|       1230|            14.0|          239|              59.0|\n",
      "|   ABI|         56|           397.0|        497|            14.0|           76|              59.0|\n",
      "|   ABQ|        457|          1650.0|       7184|            14.0|          947|              59.0|\n",
      "|   ABR|         22|           584.0|        198|            13.0|           20|              40.0|\n",
      "|   ABY|         38|           641.0|        239|            14.0|           57|              50.0|\n",
      "|   ACT|         40|           500.0|        386|            14.0|           42|              59.0|\n",
      "|   ACV|         40|           900.0|        291|            14.0|           33|              59.0|\n",
      "|   ACY|         78|          1385.0|       1002|            14.0|           92|              58.0|\n",
      "|   ADK|          4|           196.0|         25|            11.0|            5|              48.0|\n",
      "|   ADQ|         12|           221.0|        178|            14.0|           15|              55.0|\n",
      "|   AEX|         81|          1033.0|        904|            14.0|          119|              58.0|\n",
      "|   AGS|        136|          1366.0|       1343|            14.0|          237|              58.0|\n",
      "|   ALB|        560|          1107.0|       4274|            14.0|          712|              59.0|\n",
      "|   ALO|         20|           435.0|        174|            14.0|           29|              56.0|\n",
      "|   ALW|         14|           175.0|        280|            14.0|           25|              58.0|\n",
      "|   AMA|        120|           518.0|       1552|            14.0|          163|              59.0|\n",
      "|   ANC|        246|          1064.0|       4803|            14.0|          466|              59.0|\n",
      "|   APN|         36|           469.0|        150|            13.0|           19|              47.0|\n",
      "|   ART|         74|          1149.0|        151|            10.0|           15|              57.0|\n",
      "|   ASE|        601|          1383.0|       2414|            14.0|          348|              59.0|\n",
      "+------+-----------+----------------+-----------+----------------+-------------+------------------+\n",
      "only showing top 20 rows\n",
      "\n"
     ]
    }
   ],
   "source": [
    "pivot = cleanFlightsDF.groupBy(\"Origin\")\\\n",
    "                      .pivot(\"ArrDelayCat\").agg(\n",
    "                       F.count(\"*\").alias(\"Conteo\"),\n",
    "                        F.max(\"ArrDelay\").alias(\"maxArrDelay\"))\\\n",
    "                        .sort(\"Origin\")\n",
    "\n",
    "pivot.show()"
   ]
  },
  {
   "cell_type": "markdown",
   "metadata": {},
   "source": [
    "<div class=\"alert alert-block alert-success\">\n",
    "<p><b>PREGUNTA</b>: ¿Hay relación entre el día de la semana y el retraso a la salida o a la llegada?</p>\n",
    "    <p><b>PISTA</b>: Calcula el retraso medio a la salida y a la llegada para cada día de la semana y ordena por una de ellas descendentemente.</p>\n",
    "    <p> Ahora haz lo mismo para cada día pero solo con el retraso a la llegada, desagregado por cada aeropuerto de salida, utilizando la función pivot(). </p>\n",
    "</div>"
   ]
  },
  {
   "cell_type": "markdown",
   "metadata": {},
   "source": [
    "<div class=\"alert alert-block alert-info\">\n",
    "<p><b>LA FUNCIÓN PIVOT</b>: Puede ser interesante ver, para cada (Origin, Dest), el retraso promedio por\n",
    "día de la semana. Si agrupamos por esas tres variables (Origin, Dest, DayOfWeek), nuestro resultado tendría demasiadas filas para ser fácil de visualizar (7 x 1009 ya que hay 1009 combinaciones de (Origin, DayOfWeek)). En cambio, vamos a crear 7 columnas, una por día de la semana, en nuestro resultado DF. Lo haremos utilizando una de las variables de agrupación (DayOfWeek) como <i> variable pivot</i>. Como esta variable tiene 7 valores distintos, se crearán 7 columnas nuevas. De esta manera, visualizaremos toda la información de cada combinación (Origen, Dest) condensada en una fila con 7 columnas con los 7 retrasos promedio correspondientes a ese (Origen, Dest) en cada día de la semana.\n",
    "</div>"
   ]
  },
  {
   "cell_type": "code",
   "execution_count": 14,
   "metadata": {},
   "outputs": [
    {
     "name": "stdout",
     "output_type": "stream",
     "text": [
      "+---------+------------------+-------------------+\n",
      "|DayOfWeek|     RetrasoSalida|     RetrasoLlegada|\n",
      "+---------+------------------+-------------------+\n",
      "|        1|10.430177708665964|  5.391113068725289|\n",
      "|        2| 8.246502522185226| 2.8412409647873806|\n",
      "|        3|  8.47071347600168| 3.0525338339576717|\n",
      "|        4|  8.35856546210902| 2.7390527404801026|\n",
      "|        5|10.220785437977693|  5.027363815430113|\n",
      "|        6| 6.278199328016013|-0.5748593305876211|\n",
      "|        7| 9.142161259888235| 3.2344449424598207|\n",
      "+---------+------------------+-------------------+\n",
      "\n"
     ]
    }
   ],
   "source": [
    "AvgDelaysDF = cleanFlightsDF.groupBy(\"DayOfWeek\").agg(F.avg(\"DepDelay\").alias(\"RetrasoSalida\"), F.avg(\"ArrDelay\").alias(\"RetrasoLlegada\")).orderBy(\"DayOfWeek\")\n",
    "\n",
    "AvgDelaysDF.show()"
   ]
  },
  {
   "cell_type": "code",
   "execution_count": 15,
   "metadata": {},
   "outputs": [],
   "source": [
    "averageDelayOriginDestDF = cleanFlightsDF.groupBy(\"Origin\", \"Dest\").agg(\n",
    "    F.mean(\"ArrDelay\").alias(\"avgArrDelay\")\n",
    ")"
   ]
  },
  {
   "cell_type": "code",
   "execution_count": 16,
   "metadata": {
    "tags": []
   },
   "outputs": [
    {
     "data": {
      "text/html": [
       "<div>\n",
       "<style scoped>\n",
       "    .dataframe tbody tr th:only-of-type {\n",
       "        vertical-align: middle;\n",
       "    }\n",
       "\n",
       "    .dataframe tbody tr th {\n",
       "        vertical-align: top;\n",
       "    }\n",
       "\n",
       "    .dataframe thead th {\n",
       "        text-align: right;\n",
       "    }\n",
       "</style>\n",
       "<table border=\"1\" class=\"dataframe\">\n",
       "  <thead>\n",
       "    <tr style=\"text-align: right;\">\n",
       "      <th></th>\n",
       "      <th>Origin</th>\n",
       "      <th>1_RetrasoSalida</th>\n",
       "      <th>1_RetrasoLlegada</th>\n",
       "      <th>2_RetrasoSalida</th>\n",
       "      <th>2_RetrasoLlegada</th>\n",
       "      <th>3_RetrasoSalida</th>\n",
       "      <th>3_RetrasoLlegada</th>\n",
       "      <th>4_RetrasoSalida</th>\n",
       "      <th>4_RetrasoLlegada</th>\n",
       "      <th>5_RetrasoSalida</th>\n",
       "      <th>5_RetrasoLlegada</th>\n",
       "      <th>6_RetrasoSalida</th>\n",
       "      <th>6_RetrasoLlegada</th>\n",
       "      <th>7_RetrasoSalida</th>\n",
       "      <th>7_RetrasoLlegada</th>\n",
       "    </tr>\n",
       "  </thead>\n",
       "  <tbody>\n",
       "    <tr>\n",
       "      <th>0</th>\n",
       "      <td>BGM</td>\n",
       "      <td>12.428571</td>\n",
       "      <td>5.500000</td>\n",
       "      <td>11.243902</td>\n",
       "      <td>5.951220</td>\n",
       "      <td>27.219512</td>\n",
       "      <td>23.097561</td>\n",
       "      <td>61.682927</td>\n",
       "      <td>60.097561</td>\n",
       "      <td>16.921053</td>\n",
       "      <td>13.868421</td>\n",
       "      <td>13.200000</td>\n",
       "      <td>11.240000</td>\n",
       "      <td>2.139535</td>\n",
       "      <td>-2.813953</td>\n",
       "    </tr>\n",
       "    <tr>\n",
       "      <th>1</th>\n",
       "      <td>PSE</td>\n",
       "      <td>5.918919</td>\n",
       "      <td>-4.416667</td>\n",
       "      <td>14.787879</td>\n",
       "      <td>10.545455</td>\n",
       "      <td>-0.685714</td>\n",
       "      <td>-9.800000</td>\n",
       "      <td>2.257143</td>\n",
       "      <td>0.685714</td>\n",
       "      <td>8.764706</td>\n",
       "      <td>-1.764706</td>\n",
       "      <td>9.647059</td>\n",
       "      <td>2.088235</td>\n",
       "      <td>7.606061</td>\n",
       "      <td>-4.151515</td>\n",
       "    </tr>\n",
       "    <tr>\n",
       "      <th>2</th>\n",
       "      <td>INL</td>\n",
       "      <td>-0.969697</td>\n",
       "      <td>-4.606061</td>\n",
       "      <td>14.944444</td>\n",
       "      <td>12.888889</td>\n",
       "      <td>0.647059</td>\n",
       "      <td>-1.235294</td>\n",
       "      <td>22.970588</td>\n",
       "      <td>20.088235</td>\n",
       "      <td>-9.558824</td>\n",
       "      <td>-11.588235</td>\n",
       "      <td>-6.935484</td>\n",
       "      <td>-13.129032</td>\n",
       "      <td>3.870968</td>\n",
       "      <td>3.967742</td>\n",
       "    </tr>\n",
       "    <tr>\n",
       "      <th>3</th>\n",
       "      <td>MSY</td>\n",
       "      <td>8.419930</td>\n",
       "      <td>3.062675</td>\n",
       "      <td>7.618881</td>\n",
       "      <td>2.519657</td>\n",
       "      <td>11.118672</td>\n",
       "      <td>5.621753</td>\n",
       "      <td>8.338354</td>\n",
       "      <td>2.813029</td>\n",
       "      <td>9.974827</td>\n",
       "      <td>5.146306</td>\n",
       "      <td>8.053008</td>\n",
       "      <td>2.720067</td>\n",
       "      <td>10.528926</td>\n",
       "      <td>5.273677</td>\n",
       "    </tr>\n",
       "    <tr>\n",
       "      <th>4</th>\n",
       "      <td>PPG</td>\n",
       "      <td>35.705882</td>\n",
       "      <td>35.058824</td>\n",
       "      <td>NaN</td>\n",
       "      <td>NaN</td>\n",
       "      <td>39.000000</td>\n",
       "      <td>31.000000</td>\n",
       "      <td>92.500000</td>\n",
       "      <td>99.166667</td>\n",
       "      <td>243.000000</td>\n",
       "      <td>238.454545</td>\n",
       "      <td>NaN</td>\n",
       "      <td>NaN</td>\n",
       "      <td>NaN</td>\n",
       "      <td>NaN</td>\n",
       "    </tr>\n",
       "    <tr>\n",
       "      <th>...</th>\n",
       "      <td>...</td>\n",
       "      <td>...</td>\n",
       "      <td>...</td>\n",
       "      <td>...</td>\n",
       "      <td>...</td>\n",
       "      <td>...</td>\n",
       "      <td>...</td>\n",
       "      <td>...</td>\n",
       "      <td>...</td>\n",
       "      <td>...</td>\n",
       "      <td>...</td>\n",
       "      <td>...</td>\n",
       "      <td>...</td>\n",
       "      <td>...</td>\n",
       "      <td>...</td>\n",
       "    </tr>\n",
       "    <tr>\n",
       "      <th>351</th>\n",
       "      <td>SAT</td>\n",
       "      <td>7.103980</td>\n",
       "      <td>0.380597</td>\n",
       "      <td>8.701169</td>\n",
       "      <td>2.891183</td>\n",
       "      <td>8.238300</td>\n",
       "      <td>2.128302</td>\n",
       "      <td>7.915839</td>\n",
       "      <td>0.968537</td>\n",
       "      <td>6.765349</td>\n",
       "      <td>1.716075</td>\n",
       "      <td>2.896138</td>\n",
       "      <td>-2.889481</td>\n",
       "      <td>7.411359</td>\n",
       "      <td>0.618085</td>\n",
       "    </tr>\n",
       "    <tr>\n",
       "      <th>352</th>\n",
       "      <td>STT</td>\n",
       "      <td>9.849462</td>\n",
       "      <td>-0.152174</td>\n",
       "      <td>-2.294118</td>\n",
       "      <td>-10.928571</td>\n",
       "      <td>3.957895</td>\n",
       "      <td>-7.106383</td>\n",
       "      <td>1.883721</td>\n",
       "      <td>-9.116279</td>\n",
       "      <td>14.155556</td>\n",
       "      <td>4.352273</td>\n",
       "      <td>2.611650</td>\n",
       "      <td>-9.820000</td>\n",
       "      <td>1.472527</td>\n",
       "      <td>-8.241758</td>\n",
       "    </tr>\n",
       "    <tr>\n",
       "      <th>353</th>\n",
       "      <td>RAP</td>\n",
       "      <td>22.342593</td>\n",
       "      <td>21.300926</td>\n",
       "      <td>7.837079</td>\n",
       "      <td>5.859551</td>\n",
       "      <td>4.900000</td>\n",
       "      <td>-0.468421</td>\n",
       "      <td>8.160194</td>\n",
       "      <td>4.058252</td>\n",
       "      <td>9.170213</td>\n",
       "      <td>7.882353</td>\n",
       "      <td>13.221519</td>\n",
       "      <td>7.279221</td>\n",
       "      <td>6.801020</td>\n",
       "      <td>3.261538</td>\n",
       "    </tr>\n",
       "    <tr>\n",
       "      <th>354</th>\n",
       "      <td>ASE</td>\n",
       "      <td>23.220000</td>\n",
       "      <td>18.057778</td>\n",
       "      <td>13.543529</td>\n",
       "      <td>8.528436</td>\n",
       "      <td>10.714922</td>\n",
       "      <td>3.703125</td>\n",
       "      <td>2.792325</td>\n",
       "      <td>-2.676471</td>\n",
       "      <td>14.357778</td>\n",
       "      <td>9.453333</td>\n",
       "      <td>17.795652</td>\n",
       "      <td>13.135667</td>\n",
       "      <td>15.370787</td>\n",
       "      <td>11.968397</td>\n",
       "    </tr>\n",
       "    <tr>\n",
       "      <th>355</th>\n",
       "      <td>SBP</td>\n",
       "      <td>8.935622</td>\n",
       "      <td>8.866953</td>\n",
       "      <td>8.966825</td>\n",
       "      <td>8.483412</td>\n",
       "      <td>11.904110</td>\n",
       "      <td>13.598174</td>\n",
       "      <td>15.871560</td>\n",
       "      <td>16.646789</td>\n",
       "      <td>12.275229</td>\n",
       "      <td>12.685185</td>\n",
       "      <td>5.453125</td>\n",
       "      <td>4.234375</td>\n",
       "      <td>8.102326</td>\n",
       "      <td>6.469767</td>\n",
       "    </tr>\n",
       "  </tbody>\n",
       "</table>\n",
       "<p>356 rows × 15 columns</p>\n",
       "</div>"
      ],
      "text/plain": [
       "    Origin  1_RetrasoSalida  1_RetrasoLlegada  2_RetrasoSalida  \\\n",
       "0      BGM        12.428571          5.500000        11.243902   \n",
       "1      PSE         5.918919         -4.416667        14.787879   \n",
       "2      INL        -0.969697         -4.606061        14.944444   \n",
       "3      MSY         8.419930          3.062675         7.618881   \n",
       "4      PPG        35.705882         35.058824              NaN   \n",
       "..     ...              ...               ...              ...   \n",
       "351    SAT         7.103980          0.380597         8.701169   \n",
       "352    STT         9.849462         -0.152174        -2.294118   \n",
       "353    RAP        22.342593         21.300926         7.837079   \n",
       "354    ASE        23.220000         18.057778        13.543529   \n",
       "355    SBP         8.935622          8.866953         8.966825   \n",
       "\n",
       "     2_RetrasoLlegada  3_RetrasoSalida  3_RetrasoLlegada  4_RetrasoSalida  \\\n",
       "0            5.951220        27.219512         23.097561        61.682927   \n",
       "1           10.545455        -0.685714         -9.800000         2.257143   \n",
       "2           12.888889         0.647059         -1.235294        22.970588   \n",
       "3            2.519657        11.118672          5.621753         8.338354   \n",
       "4                 NaN        39.000000         31.000000        92.500000   \n",
       "..                ...              ...               ...              ...   \n",
       "351          2.891183         8.238300          2.128302         7.915839   \n",
       "352        -10.928571         3.957895         -7.106383         1.883721   \n",
       "353          5.859551         4.900000         -0.468421         8.160194   \n",
       "354          8.528436        10.714922          3.703125         2.792325   \n",
       "355          8.483412        11.904110         13.598174        15.871560   \n",
       "\n",
       "     4_RetrasoLlegada  5_RetrasoSalida  5_RetrasoLlegada  6_RetrasoSalida  \\\n",
       "0           60.097561        16.921053         13.868421        13.200000   \n",
       "1            0.685714         8.764706         -1.764706         9.647059   \n",
       "2           20.088235        -9.558824        -11.588235        -6.935484   \n",
       "3            2.813029         9.974827          5.146306         8.053008   \n",
       "4           99.166667       243.000000        238.454545              NaN   \n",
       "..                ...              ...               ...              ...   \n",
       "351          0.968537         6.765349          1.716075         2.896138   \n",
       "352         -9.116279        14.155556          4.352273         2.611650   \n",
       "353          4.058252         9.170213          7.882353        13.221519   \n",
       "354         -2.676471        14.357778          9.453333        17.795652   \n",
       "355         16.646789        12.275229         12.685185         5.453125   \n",
       "\n",
       "     6_RetrasoLlegada  7_RetrasoSalida  7_RetrasoLlegada  \n",
       "0           11.240000         2.139535         -2.813953  \n",
       "1            2.088235         7.606061         -4.151515  \n",
       "2          -13.129032         3.870968          3.967742  \n",
       "3            2.720067        10.528926          5.273677  \n",
       "4                 NaN              NaN               NaN  \n",
       "..                ...              ...               ...  \n",
       "351         -2.889481         7.411359          0.618085  \n",
       "352         -9.820000         1.472527         -8.241758  \n",
       "353          7.279221         6.801020          3.261538  \n",
       "354         13.135667        15.370787         11.968397  \n",
       "355          4.234375         8.102326          6.469767  \n",
       "\n",
       "[356 rows x 15 columns]"
      ]
     },
     "execution_count": 16,
     "metadata": {},
     "output_type": "execute_result"
    }
   ],
   "source": [
    "AvgDelayDepAirport = cleanFlightsDF.groupBy(\"Origin\").pivot(\"DayOfWeek\").agg(F.avg(\"DepDelay\").alias(\"RetrasoSalida\"), F.avg(\"ArrDelay\").alias(\"RetrasoLlegada\"))\n",
    "\n",
    "AvgDelayDepAirport.toPandas()"
   ]
  },
  {
   "cell_type": "code",
   "execution_count": 17,
   "metadata": {},
   "outputs": [
    {
     "name": "stdout",
     "output_type": "stream",
     "text": [
      "+------+----+------------------+-------------------+-------------------+-------------------+--------------------+-------------------+-------------------+-------------------+-------------------+------------------+-------------------+------------------+--------------------+-------------------+\n",
      "|Origin|Dest|       1_MediaRSal|       1_MediaRLleg|        2_MediaRSal|       2_MediaRLleg|         3_MediaRSal|       3_MediaRLleg|        4_MediaRSal|       4_MediaRLleg|        5_MediaRSal|      5_MediaRLleg|        6_MediaRSal|      6_MediaRLleg|         7_MediaRSal|       7_MediaRLleg|\n",
      "+------+----+------------------+-------------------+-------------------+-------------------+--------------------+-------------------+-------------------+-------------------+-------------------+------------------+-------------------+------------------+--------------------+-------------------+\n",
      "|   DSM| CID|             295.0|               null|               null|               null|                null|               null|               null|               null|               null|              null|               null|              null|                null|               null|\n",
      "|   ORD| GTF|             257.0|              212.0|               null|               null|                null|               null|               null|               null|               null|              null|               null|              null|                null|               null|\n",
      "|   PIA| AZA|             162.0|              148.0| 2.3636363636363638|-3.5454545454545454|                null|               null| -5.882352941176471|-11.764705882352942|               null|              null| 1.6666666666666667| 4.833333333333333|               -0.25|             -1.375|\n",
      "|   DSM| PIA|             155.0|              168.0|               null|               null|                null|               null|               null|               null|               null|              null|               null|              null|                null|               null|\n",
      "|   AVL| PIE|             150.0|              154.0|               -6.0|            -6.9375|                null|               null|  7.823529411764706|  6.176470588235294|               null|              null| 25.823529411764707| 23.11764705882353|   7.294117647058823|  4.823529411764706|\n",
      "|   RDU| PIE|             150.0|              153.0|               null|               null|                null|               null| 23.529411764705884| 17.941176470588236|               null|              null|               null|              null|              12.625|             7.3125|\n",
      "|   PIE| ROA|             139.0|              128.0|               null|               null|                null|               null| -1.588235294117647|            -5.4375|                0.0|             -10.0|               null|              null|0.058823529411764705|-1.6470588235294117|\n",
      "|   SBN| LAS|             133.0|              135.0|               null|               null|                null|               null|  9.529411764705882| 10.529411764705882|               null|              null|               null|              null|  1.8235294117647058| -6.235294117647059|\n",
      "|   ROA| PIE|             129.0|              126.0|               null|               null|                null|               null|             18.875|            14.3125|              -14.0|              -2.0|               null|              null|   4.529411764705882|-4.0588235294117645|\n",
      "|   EGE| IAH| 124.0909090909091|               91.3|               37.3|               30.1|-0.18181818181818182| 0.2727272727272727|-13.363636363636363| -17.90909090909091|-11.181818181818182|-18.09090909090909|               33.0|1.0833333333333333|  14.307692307692308|  8.461538461538462|\n",
      "|   GRK| ATL|             117.4|              116.8|               -8.0|               -5.0|               403.5|              392.5|              -3.75|             -16.75|                5.0|              11.0|               -5.5|              -6.0|                -7.0|              -18.0|\n",
      "|   MIA| ISP|109.92307692307692|   96.3076923076923|  4.571428571428571|-3.4285714285714284|   38.72727272727273| 24.363636363636363| 27.615384615384617|  24.46153846153846|              15.25|3.1666666666666665| 21.333333333333332| 7.777777777777778|   53.46153846153846|  45.46153846153846|\n",
      "|   EGE| PHX|104.91666666666667| 105.83333333333333| 28.571428571428573| 25.857142857142858|  -3.857142857142857|-3.5714285714285716| 25.333333333333332| 18.166666666666668|  19.23076923076923|12.538461538461538| 24.307692307692307|29.384615384615383|  13.692307692307692| 13.538461538461538|\n",
      "|   MSP| PVD|             102.0|               74.0|               null|               null|                null|               null|               null|               null|               null|              null|               null|              null|                null|               null|\n",
      "|   CID| PGD|101.85714285714286|  96.28571428571429|                2.8|                2.6|  12.294117647058824| 3.6470588235294117|               null|               null|  6.333333333333333|-4.333333333333333|                8.0|            1.9375|                null|               null|\n",
      "|   OGG| SLC|            100.25|-20.285714285714285|               -4.0|              -16.0|                null|               null|  71.07692307692308|  60.07692307692308| 13.307692307692308|1.3846153846153846|  6.769230769230769| -8.76923076923077|  7.3076923076923075| -7.769230769230769|\n",
      "|   CPR| LAS|             100.0|               85.0|               null|               null|                null|               null|               null|               null|               null|              null|               null|              null|                null|               null|\n",
      "|   SLC| EGE|              99.0|               91.0|               -3.0|                9.0|               -12.0|              -10.0|              -10.0|              -15.0|               -9.0|              -6.0|               -8.0|             -11.0|                -7.0|                5.0|\n",
      "|   HDN| LAX| 97.33333333333333| 106.08333333333333|-13.333333333333334|-16.166666666666668|   69.16666666666667|  71.33333333333333|-1.3333333333333333|               4.75| 11.833333333333334|              13.5|               91.5| 97.66666666666667| -11.363636363636363|-13.454545454545455|\n",
      "|   ONT| AUS|             96.25|              92.25| 24.357142857142858| 17.642857142857142|  -4.333333333333333| -8.666666666666666| -5.071428571428571| -7.928571428571429| 143.66666666666666|133.66666666666666|-0.6666666666666666|               7.0|  1.6153846153846154|-11.076923076923077|\n",
      "+------+----+------------------+-------------------+-------------------+-------------------+--------------------+-------------------+-------------------+-------------------+-------------------+------------------+-------------------+------------------+--------------------+-------------------+\n",
      "only showing top 20 rows\n",
      "\n"
     ]
    }
   ],
   "source": [
    "AvgDelaysDaysDF = cleanFlightsDF.groupBy(\"Origin\",\"Dest\").pivot(\"DayOfWeek\").agg(\n",
    "                                            F.avg(\"DepDelay\").alias(\"MediaRSal\"),\n",
    "                                            F.avg(\"ArrDelay\").alias(\"MediaRLleg\"))\\\n",
    "                                            .orderBy(\"1_MediaRSal\", ascending = False)\n",
    "AvgDelaysDaysDF.show()"
   ]
  },
  {
   "cell_type": "markdown",
   "metadata": {},
   "source": [
    "### Cuando utilizo pivot con una sola función de agregación, el alias es ignorado"
   ]
  },
  {
   "cell_type": "code",
   "execution_count": 18,
   "metadata": {},
   "outputs": [],
   "source": [
    "flightsPd = flightsDF.groupby(\"Origin\").pivot(\"DayOfWeek\").agg(\n",
    "    F.mean(\"ArrDelay\").alias(\"MeanArrDelay\")\n",
    ").sort(\"Origin\").toPandas()"
   ]
  },
  {
   "cell_type": "markdown",
   "metadata": {},
   "source": [
    "### Operaciones JOIN y de ventana"
   ]
  },
  {
   "cell_type": "markdown",
   "metadata": {},
   "source": [
    "Estaría bien tener el retraso promedio de una ruta junto a cada vuelo, para que podamos ver qué vuelos tuvieron un retraso que fue superior o inferior al retraso promedio de esa ruta."
   ]
  },
  {
   "cell_type": "markdown",
   "metadata": {},
   "source": [
    "<div class=\"alert alert-block alert-success\">\n",
    "    <b> PREGUNTA </b>:\n",
    "Usa el averageDelayOriginDestDF creado anteriormente, elimina la columna de conteo y luego únerlo con cleanFlightsDF, utilizando Origin y Dest como columnas de enlace. Finalmente, selecciona solo las columnas Origin, Dest, DayOfWeek, ArrDelay y avgDelay del resultado.\n",
    "</div>"
   ]
  },
  {
   "cell_type": "markdown",
   "metadata": {},
   "source": [
    "<div class=\"alert alert-block alert-info\">\n",
    "    <p><b>BONUS (OPCIONAL)</b>: crear una nueva columna <i>belowAverage</i> que tenga valor True si ArrDelay es menor que el avgDelay de esa ruta, y False en caso contrario. No utilizar la función when() sino el operador de comparación directamente entre columnas, la cual devolverá una columna booleana.\n",
    "</div>"
   ]
  },
  {
   "cell_type": "code",
   "execution_count": 19,
   "metadata": {},
   "outputs": [
    {
     "name": "stdout",
     "output_type": "stream",
     "text": [
      "+------+----+------------------+-------------------+-------------------+-------------------+--------------------+-------------------+-------------------+-------------------+-------------------+------------------+-------------------+------------------+--------------------+-------------------+\n",
      "|Origin|Dest|       1_MediaRSal|       1_MediaRLleg|        2_MediaRSal|       2_MediaRLleg|         3_MediaRSal|       3_MediaRLleg|        4_MediaRSal|       4_MediaRLleg|        5_MediaRSal|      5_MediaRLleg|        6_MediaRSal|      6_MediaRLleg|         7_MediaRSal|       7_MediaRLleg|\n",
      "+------+----+------------------+-------------------+-------------------+-------------------+--------------------+-------------------+-------------------+-------------------+-------------------+------------------+-------------------+------------------+--------------------+-------------------+\n",
      "|   DSM| CID|             295.0|               null|               null|               null|                null|               null|               null|               null|               null|              null|               null|              null|                null|               null|\n",
      "|   ORD| GTF|             257.0|              212.0|               null|               null|                null|               null|               null|               null|               null|              null|               null|              null|                null|               null|\n",
      "|   PIA| AZA|             162.0|              148.0| 2.3636363636363638|-3.5454545454545454|                null|               null| -5.882352941176471|-11.764705882352942|               null|              null| 1.6666666666666667| 4.833333333333333|               -0.25|             -1.375|\n",
      "|   DSM| PIA|             155.0|              168.0|               null|               null|                null|               null|               null|               null|               null|              null|               null|              null|                null|               null|\n",
      "|   AVL| PIE|             150.0|              154.0|               -6.0|            -6.9375|                null|               null|  7.823529411764706|  6.176470588235294|               null|              null| 25.823529411764707| 23.11764705882353|   7.294117647058823|  4.823529411764706|\n",
      "|   RDU| PIE|             150.0|              153.0|               null|               null|                null|               null| 23.529411764705884| 17.941176470588236|               null|              null|               null|              null|              12.625|             7.3125|\n",
      "|   PIE| ROA|             139.0|              128.0|               null|               null|                null|               null| -1.588235294117647|            -5.4375|                0.0|             -10.0|               null|              null|0.058823529411764705|-1.6470588235294117|\n",
      "|   SBN| LAS|             133.0|              135.0|               null|               null|                null|               null|  9.529411764705882| 10.529411764705882|               null|              null|               null|              null|  1.8235294117647058| -6.235294117647059|\n",
      "|   ROA| PIE|             129.0|              126.0|               null|               null|                null|               null|             18.875|            14.3125|              -14.0|              -2.0|               null|              null|   4.529411764705882|-4.0588235294117645|\n",
      "|   EGE| IAH| 124.0909090909091|               91.3|               37.3|               30.1|-0.18181818181818182| 0.2727272727272727|-13.363636363636363| -17.90909090909091|-11.181818181818182|-18.09090909090909|               33.0|1.0833333333333333|  14.307692307692308|  8.461538461538462|\n",
      "|   GRK| ATL|             117.4|              116.8|               -8.0|               -5.0|               403.5|              392.5|              -3.75|             -16.75|                5.0|              11.0|               -5.5|              -6.0|                -7.0|              -18.0|\n",
      "|   MIA| ISP|109.92307692307692|   96.3076923076923|  4.571428571428571|-3.4285714285714284|   38.72727272727273| 24.363636363636363| 27.615384615384617|  24.46153846153846|              15.25|3.1666666666666665| 21.333333333333332| 7.777777777777778|   53.46153846153846|  45.46153846153846|\n",
      "|   EGE| PHX|104.91666666666667| 105.83333333333333| 28.571428571428573| 25.857142857142858|  -3.857142857142857|-3.5714285714285716| 25.333333333333332| 18.166666666666668|  19.23076923076923|12.538461538461538| 24.307692307692307|29.384615384615383|  13.692307692307692| 13.538461538461538|\n",
      "|   MSP| PVD|             102.0|               74.0|               null|               null|                null|               null|               null|               null|               null|              null|               null|              null|                null|               null|\n",
      "|   CID| PGD|101.85714285714286|  96.28571428571429|                2.8|                2.6|  12.294117647058824| 3.6470588235294117|               null|               null|  6.333333333333333|-4.333333333333333|                8.0|            1.9375|                null|               null|\n",
      "|   OGG| SLC|            100.25|-20.285714285714285|               -4.0|              -16.0|                null|               null|  71.07692307692308|  60.07692307692308| 13.307692307692308|1.3846153846153846|  6.769230769230769| -8.76923076923077|  7.3076923076923075| -7.769230769230769|\n",
      "|   CPR| LAS|             100.0|               85.0|               null|               null|                null|               null|               null|               null|               null|              null|               null|              null|                null|               null|\n",
      "|   SLC| EGE|              99.0|               91.0|               -3.0|                9.0|               -12.0|              -10.0|              -10.0|              -15.0|               -9.0|              -6.0|               -8.0|             -11.0|                -7.0|                5.0|\n",
      "|   HDN| LAX| 97.33333333333333| 106.08333333333333|-13.333333333333334|-16.166666666666668|   69.16666666666667|  71.33333333333333|-1.3333333333333333|               4.75| 11.833333333333334|              13.5|               91.5| 97.66666666666667| -11.363636363636363|-13.454545454545455|\n",
      "|   ONT| AUS|             96.25|              92.25| 24.357142857142858| 17.642857142857142|  -4.333333333333333| -8.666666666666666| -5.071428571428571| -7.928571428571429| 143.66666666666666|133.66666666666666|-0.6666666666666666|               7.0|  1.6153846153846154|-11.076923076923077|\n",
      "+------+----+------------------+-------------------+-------------------+-------------------+--------------------+-------------------+-------------------+-------------------+-------------------+------------------+-------------------+------------------+--------------------+-------------------+\n",
      "only showing top 20 rows\n",
      "\n"
     ]
    }
   ],
   "source": [
    "averageDelayOriginDestDF = cleanFlightsDF.groupBy(\"Origin\",\"Dest\").pivot(\"DayOfWeek\").agg(\n",
    "                                            F.avg(\"DepDelay\").alias(\"MediaRSal\"),\n",
    "                                            F.avg(\"ArrDelay\").alias(\"MediaRLleg\"))\\\n",
    "                                            .orderBy(\"1_MediaRSal\", ascending = False)\n",
    "averageDelayOriginDestDF.show()"
   ]
  },
  {
   "cell_type": "code",
   "execution_count": 20,
   "metadata": {},
   "outputs": [
    {
     "name": "stdout",
     "output_type": "stream",
     "text": [
      "+------+----+------------------+\n",
      "|Origin|Dest|       avgArrDelay|\n",
      "+------+----+------------------+\n",
      "|   BQN| MCO| 5.762711864406779|\n",
      "|   PBI| DCA|-0.391025641025641|\n",
      "|   SPI| ORD|15.590909090909092|\n",
      "|   STS| PHX|12.724409448818898|\n",
      "|   MDW| MEM|3.3542600896860986|\n",
      "|   PHL| MCO| 7.520783847980997|\n",
      "|   SMF| BUR| 7.034831460674157|\n",
      "|   SNA| PHX| 6.482380579483164|\n",
      "|   ATL| GSP|-1.734910277324633|\n",
      "|   LAS| LIT| 5.218487394957983|\n",
      "+------+----+------------------+\n",
      "only showing top 10 rows\n",
      "\n"
     ]
    }
   ],
   "source": [
    "averageDelayOriginDestDF = cleanFlightsDF.groupBy(\"Origin\", \"Dest\")\\\n",
    "                                         .agg(F.mean(\"ArrDelay\").alias(\"avgArrDelay\"))\n",
    "averageDelayOriginDestDF.show(10)"
   ]
  },
  {
   "cell_type": "code",
   "execution_count": 21,
   "metadata": {},
   "outputs": [
    {
     "name": "stdout",
     "output_type": "stream",
     "text": [
      "+-----+----------+---------+----------+------+------------+----+------------+-------+--------+-------+--------+---------+----------------+--------+-----------------+-------+--------+------------+------------+--------+-------------+-----------------+-----------+\n",
      "|Month|DayofMonth|DayOfWeek|FlightDate|Origin|  OriginCity|Dest|    DestCity|DepTime|DepDelay|ArrTime|ArrDelay|Cancelled|CancellationCode|Diverted|ActualElapsedTime|AirTime|Distance|CarrierDelay|WeatherDelay|NASDelay|SecurityDelay|LateAircraftDelay|ArrDelayCat|\n",
      "+-----+----------+---------+----------+------+------------+----+------------+-------+--------+-------+--------+---------+----------------+--------+-----------------+-------+--------+------------+------------+--------+-------------+-----------------+-----------+\n",
      "|    1|        14|        7|2018-01-14|   SYR|Syracuse, NY| DTW| Detroit, MI|   null|    null|   null|    null|      1.0|               B|     0.0|             null|   null|   374.0|        null|        null|    null|         null|             null|       Huge|\n",
      "|    1|         3|        3|2018-01-03|   SYR|Syracuse, NY| LGA|New York, NY|   1348|   -10.0|   1506|   -13.0|      0.0|            null|     0.0|             78.0|   42.0|   198.0|        null|        null|    null|         null|             null|       None|\n",
      "|    1|         6|        6|2018-01-06|   SYR|Syracuse, NY| LGA|New York, NY|   1410|    12.0|   1543|    24.0|      0.0|            null|     0.0|             93.0|   45.0|   198.0|        12.0|         0.0|    12.0|          0.0|              0.0|     Slight|\n",
      "|    1|         7|        7|2018-01-07|   SYR|Syracuse, NY| LGA|New York, NY|   1347|   -11.0|   1455|   -24.0|      0.0|            null|     0.0|             68.0|   38.0|   198.0|        null|        null|    null|         null|             null|       None|\n",
      "|    1|         8|        1|2018-01-08|   SYR|Syracuse, NY| LGA|New York, NY|   1350|    -8.0|   1509|   -10.0|      0.0|            null|     0.0|             79.0|   39.0|   198.0|        null|        null|    null|         null|             null|       None|\n",
      "|    1|         9|        2|2018-01-09|   SYR|Syracuse, NY| LGA|New York, NY|   1351|    -7.0|   1504|   -15.0|      0.0|            null|     0.0|             73.0|   43.0|   198.0|        null|        null|    null|         null|             null|       None|\n",
      "|    1|        10|        3|2018-01-10|   SYR|Syracuse, NY| LGA|New York, NY|   1347|   -11.0|   1455|   -24.0|      0.0|            null|     0.0|             68.0|   38.0|   198.0|        null|        null|    null|         null|             null|       None|\n",
      "|    1|        11|        4|2018-01-11|   SYR|Syracuse, NY| LGA|New York, NY|   1345|   -13.0|   1452|   -27.0|      0.0|            null|     0.0|             67.0|   41.0|   198.0|        null|        null|    null|         null|             null|       None|\n",
      "|    1|        12|        5|2018-01-12|   SYR|Syracuse, NY| LGA|New York, NY|   1640|   162.0|   1748|   149.0|      0.0|            null|     0.0|             68.0|   40.0|   198.0|         0.0|         0.0|    97.0|          0.0|             52.0|       Huge|\n",
      "|    1|        13|        6|2018-01-13|   SYR|Syracuse, NY| LGA|New York, NY|   1338|   -20.0|   1514|    -5.0|      0.0|            null|     0.0|             96.0|   44.0|   198.0|        null|        null|    null|         null|             null|       None|\n",
      "+-----+----------+---------+----------+------+------------+----+------------+-------+--------+-------+--------+---------+----------------+--------+-----------------+-------+--------+------------+------------+--------+-------------+-----------------+-----------+\n",
      "only showing top 10 rows\n",
      "\n"
     ]
    }
   ],
   "source": [
    "cleanFlightsDF.show(10)"
   ]
  },
  {
   "cell_type": "code",
   "execution_count": 22,
   "metadata": {},
   "outputs": [
    {
     "name": "stdout",
     "output_type": "stream",
     "text": [
      "+------+----+-----+----------+---------+----------+-----------+---------+-------+--------+-------+--------+---------+----------------+--------+-----------------+-------+--------+------------+------------+--------+-------------+-----------------+-----------+------------------+------------+\n",
      "|Origin|Dest|Month|DayofMonth|DayOfWeek|FlightDate| OriginCity| DestCity|DepTime|DepDelay|ArrTime|ArrDelay|Cancelled|CancellationCode|Diverted|ActualElapsedTime|AirTime|Distance|CarrierDelay|WeatherDelay|NASDelay|SecurityDelay|LateAircraftDelay|ArrDelayCat|       avgArrDelay|belowAverage|\n",
      "+------+----+-----+----------+---------+----------+-----------+---------+-------+--------+-------+--------+---------+----------------+--------+-----------------+-------+--------+------------+------------+--------+-------------+-----------------+-----------+------------------+------------+\n",
      "|   ATL| GSP|    1|         3|        3|2018-01-03|Atlanta, GA|Greer, SC|   1024|    -1.0|   1114|    -6.0|      0.0|            null|     0.0|             50.0|   31.0|   153.0|        null|        null|    null|         null|             null|       None|-1.734910277324633|        true|\n",
      "|   ATL| GSP|    1|         3|        3|2018-01-03|Atlanta, GA|Greer, SC|   2224|     9.0|   2307|    -3.0|      0.0|            null|     0.0|             43.0|   30.0|   153.0|        null|        null|    null|         null|             null|       None|-1.734910277324633|        true|\n",
      "|   ATL| GSP|    1|         3|        3|2018-01-03|Atlanta, GA|Greer, SC|   1731|    56.0|   1817|    47.0|      0.0|            null|     0.0|             46.0|   31.0|   153.0|        12.0|         0.0|     0.0|          0.0|             35.0|     Slight|-1.734910277324633|       false|\n",
      "|   ATL| GSP|    1|        18|        4|2018-01-18|Atlanta, GA|Greer, SC|   null|    null|   null|    null|      1.0|               B|     0.0|             null|   null|   153.0|        null|        null|    null|         null|             null|       Huge|-1.734910277324633|        null|\n",
      "|   ATL| GSP|    1|        18|        4|2018-01-18|Atlanta, GA|Greer, SC|   1539|     4.0|   1624|    -6.0|      0.0|            null|     0.0|             45.0|   32.0|   153.0|        null|        null|    null|         null|             null|       None|-1.734910277324633|        true|\n",
      "|   ATL| GSP|    1|        18|        4|2018-01-18|Atlanta, GA|Greer, SC|   2222|    32.0|   2323|    38.0|      0.0|            null|     0.0|             61.0|   33.0|   153.0|        32.0|         0.0|     6.0|          0.0|              0.0|     Slight|-1.734910277324633|       false|\n",
      "|   ATL| GSP|    1|        22|        1|2018-01-22|Atlanta, GA|Greer, SC|   1019|    -1.0|   1107|   -13.0|      0.0|            null|     0.0|             48.0|   28.0|   153.0|        null|        null|    null|         null|             null|       None|-1.734910277324633|        true|\n",
      "|   ATL| GSP|    1|        22|        1|2018-01-22|Atlanta, GA|Greer, SC|   1533|    -2.0|   1615|   -15.0|      0.0|            null|     0.0|             42.0|   30.0|   153.0|        null|        null|    null|         null|             null|       None|-1.734910277324633|        true|\n",
      "|   ATL| GSP|    1|        22|        1|2018-01-22|Atlanta, GA|Greer, SC|   2209|    19.0|   2255|    10.0|      0.0|            null|     0.0|             46.0|   32.0|   153.0|        null|        null|    null|         null|             null|       None|-1.734910277324633|       false|\n",
      "|   ATL| GSP|    1|        19|        5|2018-01-19|Atlanta, GA|Greer, SC|   1019|    -1.0|   1114|    -6.0|      0.0|            null|     0.0|             55.0|   34.0|   153.0|        null|        null|    null|         null|             null|       None|-1.734910277324633|        true|\n",
      "+------+----+-----+----------+---------+----------+-----------+---------+-------+--------+-------+--------+---------+----------------+--------+-----------------+-------+--------+------------+------------+--------+-------------+-----------------+-----------+------------------+------------+\n",
      "only showing top 10 rows\n",
      "\n"
     ]
    }
   ],
   "source": [
    "joinedDF = cleanFlightsDF.join(averageDelayOriginDestDF,\n",
    "                              on = [\"Origin\", \"Dest\"])\\\n",
    "                        .withColumn(\"belowAverage\", F.col(\"ArrDelay\") < F.col(\"avgArrDelay\"))\n",
    "joinedDF.show(10)"
   ]
  },
  {
   "cell_type": "code",
   "execution_count": 23,
   "metadata": {},
   "outputs": [
    {
     "name": "stdout",
     "output_type": "stream",
     "text": [
      "+------+----+---------+--------+------------------+\n",
      "|Origin|Dest|DayOfWeek|ArrDelay|       avgArrDelay|\n",
      "+------+----+---------+--------+------------------+\n",
      "|   ATL| GSP|        3|    -6.0|-1.734910277324633|\n",
      "|   ATL| GSP|        3|    -3.0|-1.734910277324633|\n",
      "|   ATL| GSP|        3|    47.0|-1.734910277324633|\n",
      "|   ATL| GSP|        4|    null|-1.734910277324633|\n",
      "|   ATL| GSP|        4|    -6.0|-1.734910277324633|\n",
      "|   ATL| GSP|        4|    38.0|-1.734910277324633|\n",
      "|   ATL| GSP|        1|   -13.0|-1.734910277324633|\n",
      "|   ATL| GSP|        1|   -15.0|-1.734910277324633|\n",
      "|   ATL| GSP|        1|    10.0|-1.734910277324633|\n",
      "|   ATL| GSP|        5|    -6.0|-1.734910277324633|\n",
      "|   ATL| GSP|        5|    -3.0|-1.734910277324633|\n",
      "|   ATL| GSP|        5|   -14.0|-1.734910277324633|\n",
      "|   ATL| GSP|        1|    10.0|-1.734910277324633|\n",
      "|   ATL| GSP|        1|    14.0|-1.734910277324633|\n",
      "|   ATL| GSP|        1|    -3.0|-1.734910277324633|\n",
      "|   ATL| GSP|        2|   -22.0|-1.734910277324633|\n",
      "|   ATL| GSP|        2|    -9.0|-1.734910277324633|\n",
      "|   ATL| GSP|        2|    -9.0|-1.734910277324633|\n",
      "|   ATL| GSP|        7|   -16.0|-1.734910277324633|\n",
      "|   ATL| GSP|        7|    25.0|-1.734910277324633|\n",
      "+------+----+---------+--------+------------------+\n",
      "only showing top 20 rows\n",
      "\n",
      "root\n",
      " |-- Origin: string (nullable = true)\n",
      " |-- Dest: string (nullable = true)\n",
      " |-- DayOfWeek: integer (nullable = true)\n",
      " |-- ArrDelay: double (nullable = true)\n",
      " |-- avgArrDelay: double (nullable = true)\n",
      "\n"
     ]
    }
   ],
   "source": [
    "tempDF = cleanFlightsDF.alias(\"a\").join(averageDelayOriginDestDF.alias(\"b\"),\n",
    "                            on = (cleanFlightsDF[\"Origin\"] == averageDelayOriginDestDF[\"Origin\"]) & \n",
    "                                  (cleanFlightsDF[\"Dest\"] == averageDelayOriginDestDF[\"Dest\"])\n",
    "                                , how = \"left_outer\")\\\n",
    "                        .select(F.col(\"a.Origin\"), F.col(\"b.Dest\"), \"DayOfWeek\", \"ArrDelay\", \"avgArrDelay\")\n",
    "\n",
    "tempDF.show()\n",
    "tempDF.printSchema()"
   ]
  },
  {
   "cell_type": "code",
   "execution_count": 24,
   "metadata": {},
   "outputs": [
    {
     "name": "stdout",
     "output_type": "stream",
     "text": [
      "+------+----+---------+--------+------------------+\n",
      "|Origin|Dest|DayOfWeek|ArrDelay|       avgArrDelay|\n",
      "+------+----+---------+--------+------------------+\n",
      "|   ATL| GSP|        3|    -6.0|-1.734910277324633|\n",
      "|   ATL| GSP|        3|    -3.0|-1.734910277324633|\n",
      "|   ATL| GSP|        3|    47.0|-1.734910277324633|\n",
      "|   ATL| GSP|        4|    null|-1.734910277324633|\n",
      "|   ATL| GSP|        4|    -6.0|-1.734910277324633|\n",
      "|   ATL| GSP|        4|    38.0|-1.734910277324633|\n",
      "|   ATL| GSP|        1|   -13.0|-1.734910277324633|\n",
      "|   ATL| GSP|        1|   -15.0|-1.734910277324633|\n",
      "|   ATL| GSP|        1|    10.0|-1.734910277324633|\n",
      "|   ATL| GSP|        5|    -6.0|-1.734910277324633|\n",
      "|   ATL| GSP|        5|    -3.0|-1.734910277324633|\n",
      "|   ATL| GSP|        5|   -14.0|-1.734910277324633|\n",
      "|   ATL| GSP|        1|    10.0|-1.734910277324633|\n",
      "|   ATL| GSP|        1|    14.0|-1.734910277324633|\n",
      "|   ATL| GSP|        1|    -3.0|-1.734910277324633|\n",
      "|   ATL| GSP|        2|   -22.0|-1.734910277324633|\n",
      "|   ATL| GSP|        2|    -9.0|-1.734910277324633|\n",
      "|   ATL| GSP|        2|    -9.0|-1.734910277324633|\n",
      "|   ATL| GSP|        7|   -16.0|-1.734910277324633|\n",
      "|   ATL| GSP|        7|    25.0|-1.734910277324633|\n",
      "+------+----+---------+--------+------------------+\n",
      "only showing top 20 rows\n",
      "\n",
      "root\n",
      " |-- Origin: string (nullable = true)\n",
      " |-- Dest: string (nullable = true)\n",
      " |-- DayOfWeek: integer (nullable = true)\n",
      " |-- ArrDelay: double (nullable = true)\n",
      " |-- avgArrDelay: double (nullable = true)\n",
      "\n"
     ]
    }
   ],
   "source": [
    "averageDelayOriginDestDFrenombrado = averageDelayOriginDestDF.withColumnRenamed(\"Origin\", \"OriginDerecha\")\\\n",
    "                    .withColumnRenamed(\"Dest\", \"DestDerecha\")\n",
    "\n",
    "tempDF = cleanFlightsDF.join(averageDelayOriginDestDFrenombrado,\n",
    "                            on = (cleanFlightsDF[\"Origin\"] == averageDelayOriginDestDFrenombrado[\"OriginDerecha\"]) & \n",
    "                                  (cleanFlightsDF[\"Dest\"] == averageDelayOriginDestDFrenombrado[\"DestDerecha\"]))\\\n",
    "                        .select(cleanFlightsDF[\"Origin\"], cleanFlightsDF[\"Dest\"], \"DayOfWeek\", \"ArrDelay\", \"avgArrDelay\")\n",
    "\n",
    "tempDF.show()\n",
    "tempDF.printSchema()"
   ]
  },
  {
   "cell_type": "code",
   "execution_count": 25,
   "metadata": {},
   "outputs": [
    {
     "name": "stdout",
     "output_type": "stream",
     "text": [
      "+------+----+---------+--------+------------------+------------+\n",
      "|Origin|Dest|DayOfWeek|ArrDelay|       avgArrDelay|belowAverage|\n",
      "+------+----+---------+--------+------------------+------------+\n",
      "|   ATL| GSP|        3|    -6.0|-1.734910277324633|        true|\n",
      "|   ATL| GSP|        3|    -3.0|-1.734910277324633|        true|\n",
      "|   ATL| GSP|        3|    47.0|-1.734910277324633|       false|\n",
      "|   ATL| GSP|        4|    null|-1.734910277324633|        null|\n",
      "|   ATL| GSP|        4|    -6.0|-1.734910277324633|        true|\n",
      "|   ATL| GSP|        4|    38.0|-1.734910277324633|       false|\n",
      "|   ATL| GSP|        1|   -13.0|-1.734910277324633|        true|\n",
      "|   ATL| GSP|        1|   -15.0|-1.734910277324633|        true|\n",
      "|   ATL| GSP|        1|    10.0|-1.734910277324633|       false|\n",
      "|   ATL| GSP|        5|    -6.0|-1.734910277324633|        true|\n",
      "|   ATL| GSP|        5|    -3.0|-1.734910277324633|        true|\n",
      "|   ATL| GSP|        5|   -14.0|-1.734910277324633|        true|\n",
      "|   ATL| GSP|        1|    10.0|-1.734910277324633|       false|\n",
      "|   ATL| GSP|        1|    14.0|-1.734910277324633|       false|\n",
      "|   ATL| GSP|        1|    -3.0|-1.734910277324633|        true|\n",
      "|   ATL| GSP|        2|   -22.0|-1.734910277324633|        true|\n",
      "|   ATL| GSP|        2|    -9.0|-1.734910277324633|        true|\n",
      "|   ATL| GSP|        2|    -9.0|-1.734910277324633|        true|\n",
      "|   ATL| GSP|        7|   -16.0|-1.734910277324633|        true|\n",
      "|   ATL| GSP|        7|    25.0|-1.734910277324633|       false|\n",
      "+------+----+---------+--------+------------------+------------+\n",
      "only showing top 20 rows\n",
      "\n"
     ]
    }
   ],
   "source": [
    "from pyspark.sql import Window\n",
    "w = Window().partitionBy(\"Origin\", \"Dest\")\n",
    "windowDF = cleanFlightsDF.withColumn(\"avgArrDelay\", F.mean(\"ArrDelay\").over(w))\\\n",
    "                         .select(\"Origin\", \"Dest\", \"DayOfWeek\", \"ArrDelay\", \"avgArrDelay\")\\\n",
    "                         .withColumn(\"belowAverage\", F.col(\"ArrDelay\")<F.col(\"avgArrDelay\"))\n",
    "windowDF.show()"
   ]
  },
  {
   "cell_type": "code",
   "execution_count": 26,
   "metadata": {},
   "outputs": [
    {
     "data": {
      "text/html": [
       "<div>\n",
       "<style scoped>\n",
       "    .dataframe tbody tr th:only-of-type {\n",
       "        vertical-align: middle;\n",
       "    }\n",
       "\n",
       "    .dataframe tbody tr th {\n",
       "        vertical-align: top;\n",
       "    }\n",
       "\n",
       "    .dataframe thead th {\n",
       "        text-align: right;\n",
       "    }\n",
       "</style>\n",
       "<table border=\"1\" class=\"dataframe\">\n",
       "  <thead>\n",
       "    <tr style=\"text-align: right;\">\n",
       "      <th></th>\n",
       "      <th>Origin</th>\n",
       "      <th>1_MeanArrDelay</th>\n",
       "      <th>1_MinArrDelay</th>\n",
       "      <th>2_MeanArrDelay</th>\n",
       "      <th>2_MinArrDelay</th>\n",
       "      <th>3_MeanArrDelay</th>\n",
       "      <th>3_MinArrDelay</th>\n",
       "      <th>4_MeanArrDelay</th>\n",
       "      <th>4_MinArrDelay</th>\n",
       "      <th>5_MeanArrDelay</th>\n",
       "      <th>5_MinArrDelay</th>\n",
       "      <th>6_MeanArrDelay</th>\n",
       "      <th>6_MinArrDelay</th>\n",
       "      <th>7_MeanArrDelay</th>\n",
       "      <th>7_MinArrDelay</th>\n",
       "    </tr>\n",
       "  </thead>\n",
       "  <tbody>\n",
       "    <tr>\n",
       "      <th>0</th>\n",
       "      <td>ABE</td>\n",
       "      <td>14.953307</td>\n",
       "      <td>-41.0</td>\n",
       "      <td>13.893519</td>\n",
       "      <td>-32.0</td>\n",
       "      <td>15.276786</td>\n",
       "      <td>-34.0</td>\n",
       "      <td>5.924370</td>\n",
       "      <td>-42.0</td>\n",
       "      <td>18.183333</td>\n",
       "      <td>-37.0</td>\n",
       "      <td>6.940299</td>\n",
       "      <td>-33.0</td>\n",
       "      <td>10.027149</td>\n",
       "      <td>-36.0</td>\n",
       "    </tr>\n",
       "    <tr>\n",
       "      <th>1</th>\n",
       "      <td>ABI</td>\n",
       "      <td>10.650000</td>\n",
       "      <td>-28.0</td>\n",
       "      <td>16.364706</td>\n",
       "      <td>-27.0</td>\n",
       "      <td>-0.547619</td>\n",
       "      <td>-23.0</td>\n",
       "      <td>0.376344</td>\n",
       "      <td>-22.0</td>\n",
       "      <td>4.641304</td>\n",
       "      <td>-27.0</td>\n",
       "      <td>16.492063</td>\n",
       "      <td>-23.0</td>\n",
       "      <td>4.606383</td>\n",
       "      <td>-28.0</td>\n",
       "    </tr>\n",
       "    <tr>\n",
       "      <th>2</th>\n",
       "      <td>ABQ</td>\n",
       "      <td>1.442438</td>\n",
       "      <td>-67.0</td>\n",
       "      <td>0.363406</td>\n",
       "      <td>-61.0</td>\n",
       "      <td>1.736409</td>\n",
       "      <td>-67.0</td>\n",
       "      <td>3.111111</td>\n",
       "      <td>-61.0</td>\n",
       "      <td>-0.176892</td>\n",
       "      <td>-52.0</td>\n",
       "      <td>-1.655721</td>\n",
       "      <td>-63.0</td>\n",
       "      <td>-0.252019</td>\n",
       "      <td>-59.0</td>\n",
       "    </tr>\n",
       "    <tr>\n",
       "      <th>3</th>\n",
       "      <td>ABR</td>\n",
       "      <td>10.571429</td>\n",
       "      <td>-27.0</td>\n",
       "      <td>12.468750</td>\n",
       "      <td>-33.0</td>\n",
       "      <td>6.294118</td>\n",
       "      <td>-31.0</td>\n",
       "      <td>16.441176</td>\n",
       "      <td>-28.0</td>\n",
       "      <td>8.529412</td>\n",
       "      <td>-29.0</td>\n",
       "      <td>0.125000</td>\n",
       "      <td>-31.0</td>\n",
       "      <td>9.117647</td>\n",
       "      <td>-30.0</td>\n",
       "    </tr>\n",
       "    <tr>\n",
       "      <th>4</th>\n",
       "      <td>ABY</td>\n",
       "      <td>14.207547</td>\n",
       "      <td>-34.0</td>\n",
       "      <td>3.978723</td>\n",
       "      <td>-34.0</td>\n",
       "      <td>12.804348</td>\n",
       "      <td>-20.0</td>\n",
       "      <td>10.645833</td>\n",
       "      <td>-25.0</td>\n",
       "      <td>9.040816</td>\n",
       "      <td>-21.0</td>\n",
       "      <td>29.562500</td>\n",
       "      <td>-17.0</td>\n",
       "      <td>27.234043</td>\n",
       "      <td>-31.0</td>\n",
       "    </tr>\n",
       "    <tr>\n",
       "      <th>...</th>\n",
       "      <td>...</td>\n",
       "      <td>...</td>\n",
       "      <td>...</td>\n",
       "      <td>...</td>\n",
       "      <td>...</td>\n",
       "      <td>...</td>\n",
       "      <td>...</td>\n",
       "      <td>...</td>\n",
       "      <td>...</td>\n",
       "      <td>...</td>\n",
       "      <td>...</td>\n",
       "      <td>...</td>\n",
       "      <td>...</td>\n",
       "      <td>...</td>\n",
       "      <td>...</td>\n",
       "    </tr>\n",
       "    <tr>\n",
       "      <th>351</th>\n",
       "      <td>XNA</td>\n",
       "      <td>9.592857</td>\n",
       "      <td>-39.0</td>\n",
       "      <td>9.375580</td>\n",
       "      <td>-46.0</td>\n",
       "      <td>6.838462</td>\n",
       "      <td>-49.0</td>\n",
       "      <td>1.854015</td>\n",
       "      <td>-43.0</td>\n",
       "      <td>3.877941</td>\n",
       "      <td>-50.0</td>\n",
       "      <td>-0.977208</td>\n",
       "      <td>-51.0</td>\n",
       "      <td>5.438861</td>\n",
       "      <td>-41.0</td>\n",
       "    </tr>\n",
       "    <tr>\n",
       "      <th>352</th>\n",
       "      <td>YAK</td>\n",
       "      <td>-9.451613</td>\n",
       "      <td>-45.0</td>\n",
       "      <td>-13.000000</td>\n",
       "      <td>-41.0</td>\n",
       "      <td>-10.727273</td>\n",
       "      <td>-46.0</td>\n",
       "      <td>2.848485</td>\n",
       "      <td>-34.0</td>\n",
       "      <td>-9.470588</td>\n",
       "      <td>-36.0</td>\n",
       "      <td>-12.088235</td>\n",
       "      <td>-50.0</td>\n",
       "      <td>-10.090909</td>\n",
       "      <td>-41.0</td>\n",
       "    </tr>\n",
       "    <tr>\n",
       "      <th>353</th>\n",
       "      <td>YKM</td>\n",
       "      <td>0.338462</td>\n",
       "      <td>-16.0</td>\n",
       "      <td>-0.490909</td>\n",
       "      <td>-21.0</td>\n",
       "      <td>5.666667</td>\n",
       "      <td>-28.0</td>\n",
       "      <td>1.359375</td>\n",
       "      <td>-18.0</td>\n",
       "      <td>6.269841</td>\n",
       "      <td>-18.0</td>\n",
       "      <td>5.941176</td>\n",
       "      <td>-21.0</td>\n",
       "      <td>1.603175</td>\n",
       "      <td>-30.0</td>\n",
       "    </tr>\n",
       "    <tr>\n",
       "      <th>354</th>\n",
       "      <td>YNG</td>\n",
       "      <td>9.000000</td>\n",
       "      <td>9.0</td>\n",
       "      <td>NaN</td>\n",
       "      <td>NaN</td>\n",
       "      <td>NaN</td>\n",
       "      <td>NaN</td>\n",
       "      <td>141.000000</td>\n",
       "      <td>141.0</td>\n",
       "      <td>NaN</td>\n",
       "      <td>NaN</td>\n",
       "      <td>NaN</td>\n",
       "      <td>NaN</td>\n",
       "      <td>NaN</td>\n",
       "      <td>NaN</td>\n",
       "    </tr>\n",
       "    <tr>\n",
       "      <th>355</th>\n",
       "      <td>YUM</td>\n",
       "      <td>-6.819444</td>\n",
       "      <td>-39.0</td>\n",
       "      <td>-8.661290</td>\n",
       "      <td>-47.0</td>\n",
       "      <td>-1.588235</td>\n",
       "      <td>-44.0</td>\n",
       "      <td>-4.447761</td>\n",
       "      <td>-50.0</td>\n",
       "      <td>-9.088235</td>\n",
       "      <td>-41.0</td>\n",
       "      <td>-12.028986</td>\n",
       "      <td>-42.0</td>\n",
       "      <td>-9.367647</td>\n",
       "      <td>-36.0</td>\n",
       "    </tr>\n",
       "  </tbody>\n",
       "</table>\n",
       "<p>356 rows × 15 columns</p>\n",
       "</div>"
      ],
      "text/plain": [
       "    Origin  1_MeanArrDelay  1_MinArrDelay  2_MeanArrDelay  2_MinArrDelay  \\\n",
       "0      ABE       14.953307          -41.0       13.893519          -32.0   \n",
       "1      ABI       10.650000          -28.0       16.364706          -27.0   \n",
       "2      ABQ        1.442438          -67.0        0.363406          -61.0   \n",
       "3      ABR       10.571429          -27.0       12.468750          -33.0   \n",
       "4      ABY       14.207547          -34.0        3.978723          -34.0   \n",
       "..     ...             ...            ...             ...            ...   \n",
       "351    XNA        9.592857          -39.0        9.375580          -46.0   \n",
       "352    YAK       -9.451613          -45.0      -13.000000          -41.0   \n",
       "353    YKM        0.338462          -16.0       -0.490909          -21.0   \n",
       "354    YNG        9.000000            9.0             NaN            NaN   \n",
       "355    YUM       -6.819444          -39.0       -8.661290          -47.0   \n",
       "\n",
       "     3_MeanArrDelay  3_MinArrDelay  4_MeanArrDelay  4_MinArrDelay  \\\n",
       "0         15.276786          -34.0        5.924370          -42.0   \n",
       "1         -0.547619          -23.0        0.376344          -22.0   \n",
       "2          1.736409          -67.0        3.111111          -61.0   \n",
       "3          6.294118          -31.0       16.441176          -28.0   \n",
       "4         12.804348          -20.0       10.645833          -25.0   \n",
       "..              ...            ...             ...            ...   \n",
       "351        6.838462          -49.0        1.854015          -43.0   \n",
       "352      -10.727273          -46.0        2.848485          -34.0   \n",
       "353        5.666667          -28.0        1.359375          -18.0   \n",
       "354             NaN            NaN      141.000000          141.0   \n",
       "355       -1.588235          -44.0       -4.447761          -50.0   \n",
       "\n",
       "     5_MeanArrDelay  5_MinArrDelay  6_MeanArrDelay  6_MinArrDelay  \\\n",
       "0         18.183333          -37.0        6.940299          -33.0   \n",
       "1          4.641304          -27.0       16.492063          -23.0   \n",
       "2         -0.176892          -52.0       -1.655721          -63.0   \n",
       "3          8.529412          -29.0        0.125000          -31.0   \n",
       "4          9.040816          -21.0       29.562500          -17.0   \n",
       "..              ...            ...             ...            ...   \n",
       "351        3.877941          -50.0       -0.977208          -51.0   \n",
       "352       -9.470588          -36.0      -12.088235          -50.0   \n",
       "353        6.269841          -18.0        5.941176          -21.0   \n",
       "354             NaN            NaN             NaN            NaN   \n",
       "355       -9.088235          -41.0      -12.028986          -42.0   \n",
       "\n",
       "     7_MeanArrDelay  7_MinArrDelay  \n",
       "0         10.027149          -36.0  \n",
       "1          4.606383          -28.0  \n",
       "2         -0.252019          -59.0  \n",
       "3          9.117647          -30.0  \n",
       "4         27.234043          -31.0  \n",
       "..              ...            ...  \n",
       "351        5.438861          -41.0  \n",
       "352      -10.090909          -41.0  \n",
       "353        1.603175          -30.0  \n",
       "354             NaN            NaN  \n",
       "355       -9.367647          -36.0  \n",
       "\n",
       "[356 rows x 15 columns]"
      ]
     },
     "execution_count": 26,
     "metadata": {},
     "output_type": "execute_result"
    }
   ],
   "source": [
    "flightsDF.groupby(\"Origin\").pivot(\"DayOfWeek\").agg(\n",
    "    F.mean(\"ArrDelay\").alias(\"MeanArrDelay\"),\n",
    "    F.min(\"ArrDelay\").alias(\"MinArrDelay\")\n",
    "    ).sort(\"Origin\").toPandas()"
   ]
  },
  {
   "cell_type": "markdown",
   "metadata": {},
   "source": [
    "**PREGUNTA**: repetir la operación utilizando funciones de ventana, sin usar `join`."
   ]
  },
  {
   "cell_type": "markdown",
   "metadata": {},
   "source": [
    "<div class=\"alert alert-block alert-success\">\n",
    "<b> PREGUNTA </b>: Vamos a construir otro DF con información sobre los aeropuertos (en una situación real, tendríamos otra tabla en la base de datos como la tabla de la entidad Aeropuerto). Sin embargo, solo tenemos información sobre algunos aeropuertos. Nos gustaría agregar esta información a cleanFlightsDF como nuevas columnas, teniendo en cuenta que queremos que la información del aeropuerto coincida con el aeropuerto de origen de flightsDF. Utilizar la operación de unión adecuada para asegurarse de que no se perderá ninguna de las filas existentes de cleanFlightsDF después de la unión.\n",
    "</div>"
   ]
  },
  {
   "cell_type": "code",
   "execution_count": 27,
   "metadata": {},
   "outputs": [
    {
     "name": "stdout",
     "output_type": "stream",
     "text": [
      "+------+----+---------+--------+------------------+------------+\n",
      "|Origin|Dest|DayOfWeek|ArrDelay|       avgArrDelay|belowAverage|\n",
      "+------+----+---------+--------+------------------+------------+\n",
      "|   ATL| GSP|        3|    -6.0|-1.734910277324633|        true|\n",
      "|   ATL| GSP|        3|    -3.0|-1.734910277324633|        true|\n",
      "|   ATL| GSP|        3|    47.0|-1.734910277324633|       false|\n",
      "|   ATL| GSP|        4|    null|-1.734910277324633|        null|\n",
      "|   ATL| GSP|        4|    -6.0|-1.734910277324633|        true|\n",
      "|   ATL| GSP|        4|    38.0|-1.734910277324633|       false|\n",
      "|   ATL| GSP|        1|   -13.0|-1.734910277324633|        true|\n",
      "|   ATL| GSP|        1|   -15.0|-1.734910277324633|        true|\n",
      "|   ATL| GSP|        1|    10.0|-1.734910277324633|       false|\n",
      "|   ATL| GSP|        5|    -6.0|-1.734910277324633|        true|\n",
      "|   ATL| GSP|        5|    -3.0|-1.734910277324633|        true|\n",
      "|   ATL| GSP|        5|   -14.0|-1.734910277324633|        true|\n",
      "|   ATL| GSP|        1|    10.0|-1.734910277324633|       false|\n",
      "|   ATL| GSP|        1|    14.0|-1.734910277324633|       false|\n",
      "|   ATL| GSP|        1|    -3.0|-1.734910277324633|        true|\n",
      "|   ATL| GSP|        2|   -22.0|-1.734910277324633|        true|\n",
      "|   ATL| GSP|        2|    -9.0|-1.734910277324633|        true|\n",
      "|   ATL| GSP|        2|    -9.0|-1.734910277324633|        true|\n",
      "|   ATL| GSP|        7|   -16.0|-1.734910277324633|        true|\n",
      "|   ATL| GSP|        7|    25.0|-1.734910277324633|       false|\n",
      "+------+----+---------+--------+------------------+------------+\n",
      "only showing top 20 rows\n",
      "\n"
     ]
    }
   ],
   "source": [
    "from pyspark.sql import Window\n",
    "w = Window().partitionBy(\"Origin\", \"Dest\")\n",
    "windowDF = cleanFlightsDF.withColumn(\"avgArrDelay\", F.mean(\"ArrDelay\").over(w))\\\n",
    "                         .select(\"Origin\", \"Dest\", \"DayOfWeek\", \"ArrDelay\", \"avgArrDelay\")\\\n",
    "                         .withColumn(\"belowAverage\", F.col(\"ArrDelay\")<F.col(\"avgArrDelay\"))\n",
    "windowDF.show()"
   ]
  },
  {
   "cell_type": "markdown",
   "metadata": {},
   "source": [
    "### Inciso: como crear un DF de Spark a partir de un dataframe"
   ]
  },
  {
   "cell_type": "code",
   "execution_count": 28,
   "metadata": {},
   "outputs": [
    {
     "name": "stdout",
     "output_type": "stream",
     "text": [
      "root\n",
      " |-- IATA: string (nullable = true)\n",
      " |-- Year: long (nullable = true)\n",
      "\n",
      "+----+----+\n",
      "|IATA|Year|\n",
      "+----+----+\n",
      "| JFK|1948|\n",
      "| LIT|1931|\n",
      "| SEA|1949|\n",
      "+----+----+\n",
      "\n"
     ]
    }
   ],
   "source": [
    "import pandas as pd\n",
    "airports_pd = pd.DataFrame({\"IATA\":[\"JFK\", \"LIT\", \"SEA\"], \n",
    "                            \"Year\": [1948, 1931, 1949]})\n",
    "\n",
    "airportsFromPandasDF = spark.createDataFrame(airports_pd)\n",
    "airportsFromPandasDF.printSchema()\n",
    "airportsFromPandasDF.show()"
   ]
  },
  {
   "cell_type": "code",
   "execution_count": 29,
   "metadata": {},
   "outputs": [
    {
     "name": "stdout",
     "output_type": "stream",
     "text": [
      "+---+\n",
      "|age|\n",
      "+---+\n",
      "| 10|\n",
      "| 11|\n",
      "| 13|\n",
      "+---+\n",
      "\n"
     ]
    }
   ],
   "source": [
    "spark.createDataFrame([\"10\",\"11\",\"13\"], \"string\").toDF(\"age\").show()"
   ]
  },
  {
   "cell_type": "code",
   "execution_count": 30,
   "metadata": {},
   "outputs": [
    {
     "name": "stdout",
     "output_type": "stream",
     "text": [
      "root\n",
      " |-- _1: string (nullable = true)\n",
      " |-- _2: long (nullable = true)\n",
      "\n",
      "+---+----+\n",
      "| _1|  _2|\n",
      "+---+----+\n",
      "|JFK|1948|\n",
      "|LIT|1931|\n",
      "|Ann|1949|\n",
      "+---+----+\n",
      "\n"
     ]
    }
   ],
   "source": [
    "data = [['JFK', 1948], ['LIT', 1931], ['Ann', 1949]]\n",
    "pandasDF = pd.DataFrame(data, columns = ['IATA','Year'])\n",
    "airportsFromPandasDF2 = spark.createDataFrame(data)\n",
    "airportsFromPandasDF2.printSchema()\n",
    "airportsFromPandasDF2.show()"
   ]
  },
  {
   "cell_type": "code",
   "execution_count": 31,
   "metadata": {},
   "outputs": [],
   "source": [
    "airportsDF = spark.createDataFrame([\n",
    "    (\"JFK\", \"John F. Kennedy International Airport\", 1948),\n",
    "    (\"LIT\", \"Little Rock National Airport\", 1931),\n",
    "    (\"SEA\", \"Seattle-Tacoma International Airport\", 1949),\n",
    "], [\"IATA\", \"FullName\", \"Year\"])\n"
   ]
  },
  {
   "cell_type": "code",
   "execution_count": 32,
   "metadata": {},
   "outputs": [
    {
     "name": "stdout",
     "output_type": "stream",
     "text": [
      "+------+----+----+------------------------------------+----+\n",
      "|Origin|Dest|IATA|FullName                            |Year|\n",
      "+------+----+----+------------------------------------+----+\n",
      "|SEA   |JFK |SEA |Seattle-Tacoma International Airport|1949|\n",
      "|SEA   |LGB |SEA |Seattle-Tacoma International Airport|1949|\n",
      "|SEA   |BOS |SEA |Seattle-Tacoma International Airport|1949|\n",
      "|SEA   |BOS |SEA |Seattle-Tacoma International Airport|1949|\n",
      "|SEA   |LGB |SEA |Seattle-Tacoma International Airport|1949|\n",
      "|SEA   |JFK |SEA |Seattle-Tacoma International Airport|1949|\n",
      "|SEA   |LGB |SEA |Seattle-Tacoma International Airport|1949|\n",
      "|SEA   |BOS |SEA |Seattle-Tacoma International Airport|1949|\n",
      "|SEA   |BOS |SEA |Seattle-Tacoma International Airport|1949|\n",
      "|SEA   |LGB |SEA |Seattle-Tacoma International Airport|1949|\n",
      "+------+----+----+------------------------------------+----+\n",
      "only showing top 10 rows\n",
      "\n"
     ]
    }
   ],
   "source": [
    "joinedFlightsDF = cleanFlightsDF.join(airportsDF,\n",
    "                                on = cleanFlightsDF.Origin == airportsDF.IATA,\n",
    "                                how = \"left_outer\")\n",
    "\n",
    "# PREGUNTA: mostrar algunas filas donde FullName no sea null\n",
    "joinedFlightsDF.filter(~(F.col(\"FullName\").isNull()))\\\n",
    "                        .select(\"Origin\", \"Dest\", \"IATA\", \"FullName\", \"Year\")\\\n",
    "                        .show(10,truncate = False)"
   ]
  },
  {
   "cell_type": "markdown",
   "metadata": {},
   "source": [
    "## User-defined functions (UDFs)"
   ]
  },
  {
   "cell_type": "markdown",
   "metadata": {},
   "source": [
    "Vamos a construir un UDF para convertir millas a kilómetros. Ten en cuenta que esto podría hacerse fácilmente multiplicando directamente la columna de millas por 1.6 (y sería mucho más eficiente), ya que Spark permite el producto entre una columna y un número. En todos los casos en los que Spark proporciona funciones integradas para realizar una tarea (como esta), debes usar esas funciones y no una UDF. Las UDF deben emplearse solo cuando no hay otra opción.\n",
    "\n",
    "La razón es que las funciones integradas de Spark están optimizadas y Catalyst, el optimizador automático de código integrado en Spark, puede optimizarlo aún más. Sin embargo, las UDF son una caja negra para Catalyst y su contenido no se optimizará, y por lo tanto, generalmente son mucho más lentas."
   ]
  },
  {
   "cell_type": "code",
   "execution_count": 33,
   "metadata": {},
   "outputs": [
    {
     "name": "stdout",
     "output_type": "stream",
     "text": [
      "8.0\n",
      "+------+----+--------+------------------+\n",
      "|Origin|Dest|Distance|            DistKM|\n",
      "+------+----+--------+------------------+\n",
      "|   CLE| JFK|   425.0|             680.0|\n",
      "|   MCO| PSE|  1179.0|            1886.4|\n",
      "|   FLL| DTW|  1127.0|            1803.2|\n",
      "|   LAX| MTJ|   666.0|1065.6000000000001|\n",
      "|   AZA| MLI|  1288.0|            2060.8|\n",
      "+------+----+--------+------------------+\n",
      "only showing top 5 rows\n",
      "\n"
     ]
    }
   ],
   "source": [
    "from pyspark.sql.functions import udf\n",
    "from pyspark.sql import types as T\n",
    "\n",
    "# Primer paso: crear una función de Python que reciba UN número y lo multiplique por 1.6\n",
    "def milesToKm(miles):\n",
    "    return miles*1.6\n",
    "\n",
    "# Vamos a probarla\n",
    "print(milesToKm(5)) # 5 millas a km: 8 km\n",
    "\n",
    "# Segundo paso: crear un objeto UDF que envuelva a nuestra función. \n",
    "# Hay que especificar el tipo de dato que devuelve nuestra función\n",
    "udfMilesToKm = F.udf(milesToKm, T.DoubleType())\n",
    "\n",
    "# Con esto, Spark será capaz de llamar a nuestra función milesToKm sobre cada uno de los valores de una columna numérica.\n",
    "# Spark enviará el código de nuestra función a los executors a través de la red, y cada executor la ejecutará sobre las\n",
    "# particiones (una por una) que estén en ese executor\n",
    "\n",
    "# Tercer paso: vamos a probar la UDF añadiendo una nueva columna con el resultado de la conversión\n",
    "flightsWithKm = cleanFlightsDF.withColumn(\"DistKm\", udfMilesToKm(F.col(\"Distance\")))\n",
    "\n",
    "flightsWithKm.select(\"Origin\", \"Dest\", \"Distance\", \"DistKM\")\\\n",
    "             .distinct()\\\n",
    "             .show(5)"
   ]
  },
  {
   "cell_type": "markdown",
   "metadata": {},
   "source": [
    "<div class=\"alert alert-block alert-info\">\n",
    "<p><b>BONUS</b>: Crea tu propia UDF que convierta DayOfWeek en una cadena.\n",
    "Puedes hacerlo creando una función de Python que reciba un número entero y devuelva el día de la semana,\n",
    "simplemente leyendo desde un vector de cadenas de longitud 7 el valor en la posición indicada por el argumento entero. Para la UDF, recuerda que tu función devuelve un StringType(). Finalmente, prueba tu UDF creando una nueva columna \"DayOfWeekString\".\n",
    "</div>"
   ]
  },
  {
   "cell_type": "code",
   "execution_count": 37,
   "metadata": {},
   "outputs": [],
   "source": [
    "from pyspark.sql.types import StringType\n",
    "\n",
    "# Primer paso: creamos una función de python que convierte un número entero en el día de la semana como cadena\n",
    "def dayOfWeekToString(dayInteger):\n",
    "    # En nuestros datos Monday es 1 pero las listas de python empiezan en el 0 y \n",
    "    # queremos usar el dayInteger como índice del vector\n",
    "    daysOfWeek = [\"\", \"Monday\", \"Tuesday\", \"Wednesday\", \"Thursday\", \"Friday\", \"Saturday\", \"Sunday\"]\n",
    "    return daysOfWeek[dayInteger]\n",
    "    \n",
    "# Segundo paso: ajustamos nuestra función con un Spark UDF para que Spark pueda invocarlo en cada valor de una columna completa\n",
    "# De esta manera, Spark puede enviar nuestra función a los ejecutores, que eventualmente ejecutarán la función en las particiones\n",
    "# de los datos que tiene cada ejecutor\n",
    "dayOfWeekStringUDF = F.udf(dayOfWeekToString, StringType())\n",
    "\n"
   ]
  },
  {
   "cell_type": "code",
   "execution_count": 38,
   "metadata": {},
   "outputs": [
    {
     "name": "stdout",
     "output_type": "stream",
     "text": [
      "+------+----+---------+---------------+\n",
      "|Origin|Dest|DayOfWeek|DayOfWeekString|\n",
      "+------+----+---------+---------------+\n",
      "|   BQK| ATL|        4|       Thursday|\n",
      "|   CVG| PHL|        3|      Wednesday|\n",
      "|   DTW| DFW|        5|         Friday|\n",
      "|   SEA| JFK|        2|        Tuesday|\n",
      "|   JAX| JFK|        2|        Tuesday|\n",
      "|   RDU| BOS|        3|      Wednesday|\n",
      "|   SEA| BOS|        3|      Wednesday|\n",
      "|   AUS| FLL|        3|      Wednesday|\n",
      "|   JFK| LAS|        5|         Friday|\n",
      "|   SLC| BOS|        6|       Saturday|\n",
      "|   BOS| HOU|        6|       Saturday|\n",
      "|   BDL| MCO|        7|         Sunday|\n",
      "|   SJU| TPA|        7|         Sunday|\n",
      "|   PGD| TYS|        6|       Saturday|\n",
      "|   PIE| CVG|        6|       Saturday|\n",
      "|   ABE| SFB|        7|         Sunday|\n",
      "|   LAS| BIS|        7|         Sunday|\n",
      "|   ROC| PGD|        1|         Monday|\n",
      "|   EWR| CVG|        1|         Monday|\n",
      "|   CVG| SFB|        1|         Monday|\n",
      "+------+----+---------+---------------+\n",
      "only showing top 20 rows\n",
      "\n"
     ]
    }
   ],
   "source": [
    "# Tercer paso: intentemos nuestro UDF agregando una nueva columna que resulta de transformar (a través del UDF) el\n",
    "# columna existente DayOfWeek\n",
    "flightsWithDayOfWeekStr = cleanFlightsDF.withColumn(\"DayOfWeekString\", dayOfWeekStringUDF(F.col(\"DayOfWeek\")))\n",
    "\n",
    "flightsWithDayOfWeekStr.select(\"Origin\", \"Dest\", \"DayOfWeek\", \"DayOfWeekString\")\\\n",
    "                       .distinct()\\\n",
    "                       .show()\n"
   ]
  },
  {
   "cell_type": "code",
   "execution_count": null,
   "metadata": {},
   "outputs": [],
   "source": []
  },
  {
   "cell_type": "code",
   "execution_count": null,
   "metadata": {},
   "outputs": [],
   "source": []
  }
 ],
 "metadata": {
  "kernelspec": {
   "display_name": "Python 3 (ipykernel)",
   "language": "python",
   "name": "python3"
  },
  "language_info": {
   "codemirror_mode": {
    "name": "ipython",
    "version": 3
   },
   "file_extension": ".py",
   "mimetype": "text/x-python",
   "name": "python",
   "nbconvert_exporter": "python",
   "pygments_lexer": "ipython3",
   "version": "3.9.7"
  }
 },
 "nbformat": 4,
 "nbformat_minor": 4
}
